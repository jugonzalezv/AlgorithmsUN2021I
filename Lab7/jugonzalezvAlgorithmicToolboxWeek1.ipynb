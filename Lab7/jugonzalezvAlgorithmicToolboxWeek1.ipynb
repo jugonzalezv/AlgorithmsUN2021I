{
  "nbformat": 4,
  "nbformat_minor": 0,
  "metadata": {
    "colab": {
      "name": "jagonzalezviAlgorithmicToolboxWeek1.ipynb",
      "provenance": [],
      "collapsed_sections": [
        "WbDV-4rHVcMB",
        "IeZ3kTjpYmR9"
      ],
      "toc_visible": true
    },
    "kernelspec": {
      "name": "python3",
      "display_name": "Python 3"
    },
    "language_info": {
      "name": "python"
    }
  },
  "cells": [
    {
      "cell_type": "markdown",
      "metadata": {
        "id": "uvP-mOubW_5F"
      },
      "source": [
        "# II Solving The Maximum Pairwise Product Programming Challenge in C++"
      ]
    },
    {
      "cell_type": "markdown",
      "metadata": {
        "id": "C12yoFR6Xonl"
      },
      "source": [
        "## C++"
      ]
    },
    {
      "cell_type": "markdown",
      "metadata": {
        "id": "WbDV-4rHVcMB"
      },
      "source": [
        "### **a) Brute force solution**"
      ]
    },
    {
      "cell_type": "code",
      "metadata": {
        "colab": {
          "base_uri": "https://localhost:8080/"
        },
        "id": "YL4qJX3tXxdd",
        "outputId": "bb9b6c05-4d08-4299-e420-6467cfbeb8db"
      },
      "source": [
        "%%writefile max_pairwise_product1.cpp\n",
        "#include <iostream>\n",
        "#include <vector>\n",
        "#include <algorithm>\n",
        "\n",
        "int MaxPairwiseProduct(const std::vector<int>& numbers) {\n",
        "    int max_product = 0;\n",
        "    int n = numbers.size();\n",
        "\n",
        "    for (int first = 0; first < n; ++first) {\n",
        "        for (int second = first + 1; second < n; ++second) {\n",
        "            max_product = std::max(max_product,\n",
        "                numbers[first] * numbers[second]);\n",
        "        }\n",
        "    }\n",
        "\n",
        "    return max_product;\n",
        "}\n",
        "\n",
        "int main() {\n",
        "    int n;\n",
        "    std::cin >> n;\n",
        "    std::vector<int> numbers(n);\n",
        "    for (int i = 0; i < n; ++i) {\n",
        "        std::cin >> numbers[i];\n",
        "    }\n",
        "\n",
        "    std::cout << MaxPairwiseProduct(numbers) << \"\\n\";\n",
        "    return 0;\n",
        "}\n"
      ],
      "execution_count": 7,
      "outputs": [
        {
          "output_type": "stream",
          "text": [
            "Writing max_pairwise_product1.cpp\n"
          ],
          "name": "stdout"
        }
      ]
    },
    {
      "cell_type": "code",
      "metadata": {
        "colab": {
          "base_uri": "https://localhost:8080/"
        },
        "id": "KGxaEjvWX__O",
        "outputId": "7d50a4f4-22e4-4ef6-8266-8575656470ae"
      },
      "source": [
        "!g++ max_pairwise_product1.cpp -o max_pairwise_product1\n",
        "!./max_pairwise_product1"
      ],
      "execution_count": 8,
      "outputs": [
        {
          "output_type": "stream",
          "text": [
            "2\n",
            "1\n",
            "2\n",
            "2\n"
          ],
          "name": "stdout"
        }
      ]
    },
    {
      "cell_type": "markdown",
      "metadata": {
        "id": "IeZ3kTjpYmR9"
      },
      "source": [
        "### **b) Integer Overflow**"
      ]
    },
    {
      "cell_type": "code",
      "metadata": {
        "colab": {
          "base_uri": "https://localhost:8080/"
        },
        "id": "LQNlZqaqYt7U",
        "outputId": "47a992d8-064f-49f6-c8e0-8fdd75a1ba54"
      },
      "source": [
        "%%writefile input1.txt\n",
        "5\n",
        "1 3 200000 9 200000 23"
      ],
      "execution_count": 9,
      "outputs": [
        {
          "output_type": "stream",
          "text": [
            "Writing input1.txt\n"
          ],
          "name": "stdout"
        }
      ]
    },
    {
      "cell_type": "code",
      "metadata": {
        "colab": {
          "base_uri": "https://localhost:8080/"
        },
        "id": "2Wad2VZUZDxR",
        "outputId": "7630a0c1-99b9-461a-e00a-32c56634f495"
      },
      "source": [
        "!./max_pairwise_product1 < input1.txt"
      ],
      "execution_count": 10,
      "outputs": [
        {
          "output_type": "stream",
          "text": [
            "1345294336\n"
          ],
          "name": "stdout"
        }
      ]
    },
    {
      "cell_type": "markdown",
      "metadata": {
        "id": "3v2xzpcEV_O3"
      },
      "source": [
        "### **c) Long long fix**"
      ]
    },
    {
      "cell_type": "code",
      "metadata": {
        "colab": {
          "base_uri": "https://localhost:8080/"
        },
        "id": "MPcmsxiQZSfE",
        "outputId": "af0d52fc-ee79-4ca7-dfb5-74791654a478"
      },
      "source": [
        "%%writefile max_pairwise_product2.cpp\n",
        "#include <iostream>\n",
        "#include <vector>\n",
        "#include <algorithm>\n",
        "\n",
        "long long MaxPairwiseProduct(const std::vector<int>& numbers) {\n",
        "    long long max_product = 0LL;\n",
        "\t  long long aux_product = 0LL;\n",
        "    int n = numbers.size();\n",
        "\n",
        "    for (int first = 0; first < n; ++first) {\n",
        "        for (int second = first + 1; second < n; ++second) {\n",
        "\t\t\t       aux_product =  (long long) numbers[first] * numbers[second];\n",
        "            if ( max_product < aux_product)  {\n",
        "\t\t\t\t        max_product = aux_product;\n",
        "             }\n",
        "        }\n",
        "    }\n",
        "\n",
        "    return max_product;\n",
        "}\n",
        "\n",
        "int main() {\n",
        "    int n;\n",
        "    std::cin >> n;\n",
        "    std::vector<int> numbers(n);\n",
        "    for (int i = 0; i < n; ++i) {\n",
        "        std::cin >> numbers[i];\n",
        "    }\n",
        "\n",
        "    std::cout << MaxPairwiseProduct(numbers) << \"\\n\";\n",
        "    return 0;\n",
        "}\n"
      ],
      "execution_count": 11,
      "outputs": [
        {
          "output_type": "stream",
          "text": [
            "Writing max_pairwise_product2.cpp\n"
          ],
          "name": "stdout"
        }
      ]
    },
    {
      "cell_type": "code",
      "metadata": {
        "colab": {
          "base_uri": "https://localhost:8080/"
        },
        "id": "I5pCeOG1Zm7s",
        "outputId": "e2281e05-e45e-4808-aa1d-7dee6fbfe997"
      },
      "source": [
        "!g++ max_pairwise_product2.cpp -o max_pairwise_product2\n",
        "!./max_pairwise_product2 < input1.txt"
      ],
      "execution_count": 12,
      "outputs": [
        {
          "output_type": "stream",
          "text": [
            "40000000000\n"
          ],
          "name": "stdout"
        }
      ]
    },
    {
      "cell_type": "markdown",
      "metadata": {
        "id": "9z9yr5QkeyJF"
      },
      "source": [
        "### **d) Generate random number input file** "
      ]
    },
    {
      "cell_type": "code",
      "metadata": {
        "id": "oLiMjbAIfPlX",
        "colab": {
          "base_uri": "https://localhost:8080/"
        },
        "outputId": "6ff41b88-bcf3-44d3-fc2d-82a65ae73018"
      },
      "source": [
        "%%writefile gen_ran.cpp\n",
        "#include <iostream>\n",
        "#include <vector>\n",
        "#include <algorithm>\n",
        "#include <iostream>\n",
        "#include <fstream>\n",
        "using namespace std;\n",
        "\n",
        "int main () {\n",
        "  int n = 200000;\n",
        "  ofstream myfile;\n",
        "  myfile.open (\"stress_case.txt\");\n",
        "  myfile << n << '\\n';\n",
        "  for(int i = 0; i<(n-2); i++){\n",
        "        myfile << rand() % n << ' ';\n",
        "  }\n",
        "  myfile << n << ' ' << n;\n",
        "  myfile.close();\n",
        "  return 0;\n",
        "}"
      ],
      "execution_count": 2,
      "outputs": [
        {
          "output_type": "stream",
          "text": [
            "Writing gen_ran.cpp\n"
          ],
          "name": "stdout"
        }
      ]
    },
    {
      "cell_type": "code",
      "metadata": {
        "id": "r-sUa9KkyVa0"
      },
      "source": [
        "!g++ gen_ran.cpp -o gen_ran\n",
        "!./gen_ran"
      ],
      "execution_count": 4,
      "outputs": []
    },
    {
      "cell_type": "markdown",
      "metadata": {
        "id": "sc9nOLQrfTm0"
      },
      "source": [
        "### **e) Time test for previous solution(inefficient)**"
      ]
    },
    {
      "cell_type": "code",
      "metadata": {
        "colab": {
          "base_uri": "https://localhost:8080/"
        },
        "id": "KmLEA9cnXKVG",
        "outputId": "f881da85-b019-4e0e-c691-63db437ebe37"
      },
      "source": [
        "!time ./max_pairwise_product2 < stress_case.txt"
      ],
      "execution_count": 13,
      "outputs": [
        {
          "output_type": "stream",
          "text": [
            "40000000000\n",
            "\n",
            "real\t2m7.311s\n",
            "user\t2m7.164s\n",
            "sys\t0m0.015s\n"
          ],
          "name": "stdout"
        }
      ]
    },
    {
      "cell_type": "markdown",
      "metadata": {
        "id": "7LzSl9r6YQlK"
      },
      "source": [
        "### **f) Efficient solution**"
      ]
    },
    {
      "cell_type": "markdown",
      "metadata": {
        "id": "IBx9PQUjYcwM"
      },
      "source": [
        "####C++ Code"
      ]
    },
    {
      "cell_type": "code",
      "metadata": {
        "colab": {
          "base_uri": "https://localhost:8080/"
        },
        "id": "JDGePG2h0tmC",
        "outputId": "4500a449-d8cb-485a-e801-a8466e505ef5"
      },
      "source": [
        "%%writefile efficient_pw.cpp\n",
        "#include <iostream>\n",
        "#include <vector>\n",
        "#include <fstream>\n",
        "using namespace std;\n",
        "\n",
        "int main () {\n",
        "    int n;\n",
        "    cin >> n;\n",
        "    vector<int> numbers(n);\n",
        "    for (int i = 0; i < n; ++i) {\n",
        "        std::cin >> numbers[i];\n",
        "    }\n",
        "    int index = 1;\n",
        "    for(int i =2; i<n; i++){\n",
        "        if(numbers[i]> numbers[index]){\n",
        "            index = i;\n",
        "        }\n",
        "        int temp = numbers[index];\n",
        "        numbers[index] = numbers[n];\n",
        "        numbers[n] = temp;\n",
        "    }\n",
        "    for(int i =2; i<(n-1); i++){\n",
        "        if(numbers[i]> numbers[index]){\n",
        "            index = i;\n",
        "        }\n",
        "        int temp = numbers[index];\n",
        "        numbers[index] = numbers[n-1];\n",
        "        numbers[n-1] = temp;\n",
        "    }\n",
        "    long long ans = (long long)numbers[n]*numbers[n-1];\n",
        "    cout  << \"The the maximum pairwise product is: \"<< ans;\n",
        "}"
      ],
      "execution_count": 14,
      "outputs": [
        {
          "output_type": "stream",
          "text": [
            "Writing efficient_pw.cpp\n"
          ],
          "name": "stdout"
        }
      ]
    },
    {
      "cell_type": "markdown",
      "metadata": {
        "id": "gD2c-OR9YwCk"
      },
      "source": [
        "Execution and time"
      ]
    },
    {
      "cell_type": "code",
      "metadata": {
        "id": "9wjd140R63ND",
        "colab": {
          "base_uri": "https://localhost:8080/"
        },
        "outputId": "5a5407c9-e28b-4fd4-a2d0-73ab99b678bc"
      },
      "source": [
        "!g++ efficient_pw.cpp -o efficient_pw\n",
        "!time ./efficient_pw < stress_case.txt"
      ],
      "execution_count": 15,
      "outputs": [
        {
          "output_type": "stream",
          "text": [
            "The the maximum pairwise product is: 40000000000\n",
            "real\t0m0.067s\n",
            "user\t0m0.063s\n",
            "sys\t0m0.004s\n"
          ],
          "name": "stdout"
        }
      ]
    },
    {
      "cell_type": "markdown",
      "metadata": {
        "id": "rydCU4bFfrhG"
      },
      "source": [
        "####Python"
      ]
    },
    {
      "cell_type": "code",
      "metadata": {
        "id": "aorKYfCD8RJ3"
      },
      "source": [
        "def maxpair(numeros):\n",
        "  indice = 0\n",
        "  n = len(numeros)-1\n",
        "  for i in range (1,n):\n",
        "    if(numeros[i] > numeros[indice]):\n",
        "      indice = i\n",
        "  numeros[indice], numeros[n] = numeros[n], numeros[indice]\n",
        "  indice = 0\n",
        "  for i in range (1,n):\n",
        "    if (numeros[i]> numeros[indice]):\n",
        "       indice = i\n",
        "  numeros [indice],numeros[n-1] = numeros[n-1], numeros[indice]\n",
        "  return numeros[n]*numeros[n-1]\n",
        "\n",
        "with open(\"stress_case.txt\", \"r\") as file1:\n",
        "  arr = list(map(int, file1.readlines()[1].split()))"
      ],
      "execution_count": 16,
      "outputs": []
    },
    {
      "cell_type": "markdown",
      "metadata": {
        "id": "j4YktYBS1mqY"
      },
      "source": [
        "Execution and time"
      ]
    },
    {
      "cell_type": "code",
      "metadata": {
        "colab": {
          "base_uri": "https://localhost:8080/"
        },
        "id": "SuuqbUAt1n5L",
        "outputId": "fb8ae64f-666a-4f39-831d-6a4fae65bac4"
      },
      "source": [
        "import timeit as tt\n",
        "start = tt.default_timer()\n",
        "print( \"The the maximum pairwise product is: \", maxpair(arr))\n",
        "finish = tt.default_timer()\n",
        "print(\"Time : \", finish-start, \"s\")"
      ],
      "execution_count": 17,
      "outputs": [
        {
          "output_type": "stream",
          "text": [
            "The the maximum pairwise product is:  40000000000\n",
            "Time :  0.041711239999926875 s\n"
          ],
          "name": "stdout"
        }
      ]
    },
    {
      "cell_type": "markdown",
      "metadata": {
        "id": "5nH1hK5uZ0IS"
      },
      "source": [
        "### **g) No storage solution**"
      ]
    },
    {
      "cell_type": "markdown",
      "metadata": {
        "id": "CJIra0LTaJhB"
      },
      "source": [
        "####C++"
      ]
    },
    {
      "cell_type": "code",
      "metadata": {
        "colab": {
          "base_uri": "https://localhost:8080/"
        },
        "id": "ojWOJ8H5Yj4p",
        "outputId": "b9a69ec4-d5dd-4d39-a0e3-55fc057d26c1"
      },
      "source": [
        "%%writefile efficient.cpp\n",
        "#include <iostream>\n",
        "using namespace std;\n",
        "int main () {\n",
        "    int n;\n",
        "    cin >> n;\n",
        "    int temp, max1, max2;\n",
        "    cin >> max1 >> max2;\n",
        "    for (int i = 2; i < n; ++i) {\n",
        "        cin >> temp;\n",
        "        if(temp>max1){\n",
        "            if(max1>max2)max2=max1;\n",
        "            max1 = temp;\n",
        "            continue;\n",
        "        }\n",
        "        if(temp>max2)max2=temp;\n",
        "    }\n",
        "    long long ans = (long long) max1*max2;\n",
        "    cout << \"The the maximum pairwise product is: \"<< ans;\n",
        "}"
      ],
      "execution_count": 18,
      "outputs": [
        {
          "output_type": "stream",
          "text": [
            "Writing efficient.cpp\n"
          ],
          "name": "stdout"
        }
      ]
    },
    {
      "cell_type": "markdown",
      "metadata": {
        "id": "BdUopu6VaFdx"
      },
      "source": [
        "Execution and time"
      ]
    },
    {
      "cell_type": "code",
      "metadata": {
        "colab": {
          "base_uri": "https://localhost:8080/"
        },
        "id": "3U3WBO1nZ_fp",
        "outputId": "4721c6f3-26a4-4b32-9165-13a619ffe516"
      },
      "source": [
        "!g++ efficient.cpp -o efficient\n",
        "!time ./efficient < stress_case.txt"
      ],
      "execution_count": 19,
      "outputs": [
        {
          "output_type": "stream",
          "text": [
            "The the maximum pairwise product is: 40000000000\n",
            "real\t0m0.063s\n",
            "user\t0m0.058s\n",
            "sys\t0m0.004s\n"
          ],
          "name": "stdout"
        }
      ]
    },
    {
      "cell_type": "markdown",
      "metadata": {
        "id": "DBTmQ3UraOyB"
      },
      "source": [
        "####Python"
      ]
    },
    {
      "cell_type": "code",
      "metadata": {
        "colab": {
          "base_uri": "https://localhost:8080/"
        },
        "id": "X2gtJ159aOIj",
        "outputId": "5284c021-6c2e-4076-e16f-04cc32594a30"
      },
      "source": [
        "%%writefile efficient.py\n",
        "import timeit as tt\n",
        "start = tt.default_timer()\n",
        "\n",
        "with open(\"stress_case.txt\", \"r\") as file1:\n",
        "  arr = list(map(int, file1.readlines()[1].split()))\n",
        "\n",
        "m1, m2 = 0, 0\n",
        "for i in range(0,len(arr)):\n",
        "  if arr[i] > m1:\n",
        "    if m1>m2:\n",
        "      m2=m1\n",
        "    m1=arr[i]\n",
        "    continue\n",
        "  if arr[i]>m2:\n",
        "    m2=arr[i]\n",
        "finish = tt.default_timer()\n",
        "print( \"The the maximum pairwise product is: \", m1*m2)\n",
        "print(\"Time : \", finish-start, \"s\")"
      ],
      "execution_count": 36,
      "outputs": [
        {
          "output_type": "stream",
          "text": [
            "Overwriting efficient.py\n"
          ],
          "name": "stdout"
        }
      ]
    },
    {
      "cell_type": "code",
      "metadata": {
        "colab": {
          "base_uri": "https://localhost:8080/"
        },
        "id": "hr9t-Zdad1fV",
        "outputId": "02c7676c-6107-4aa4-e0ab-a4fdada3be06"
      },
      "source": [
        "!python ./efficient.py"
      ],
      "execution_count": 37,
      "outputs": [
        {
          "output_type": "stream",
          "text": [
            "The the maximum pairwise product is:  40000000000\n",
            "Time :  0.10139670700027636 s\n"
          ],
          "name": "stdout"
        }
      ]
    },
    {
      "cell_type": "markdown",
      "metadata": {
        "id": "UwH5PdcPg_1R"
      },
      "source": [
        "![PwProof.png](data:image/png;base64,iVBORw0KGgoAAAANSUhEUgAABTYAAAKXCAYAAAC4zRX9AAAAAXNSR0IArs4c6QAAAARnQU1BAACxjwv8YQUAAAAJcEhZcwAADsMAAA7DAcdvqGQAAI9KSURBVHhe7f3/c2RnfS/67j8jv81xnZ/u/W3XVk1V7p2NU5mCFA5V1zKnCg82h3HMzTjOZny8sWVcE43ZPvJ4E9mYiWzKyOYYwYkjm5BowETDtTOzMVsTwj6aAJE3TuRgI3+LBQOIbUCXMfdz17O+tLpbq1stTWs8y/N6VT329OrVq9e3Xnr63c+znn8TAAAAAAANI9gEAAAAABpHsAkAAAAANI5gEwAAAABoHMEmAAAAANA4gk0AAAAAoHEEmwAAAABA4wg2AQAAAIDGEWwCAAAAAI0j2AQAAAAAGkewCQAAAAA0jmATAAAAAGgcwSYAAADAAH74wx/m5VL1nR//Mj7//Lm481uvxXXPvBS/99QL8e/nlvOS/p2mpefSPGleaDrBJgAAAMAALsVg8+U3fx2fWfpRjJ78Qfw///qft1XSa9Jr0zKgiQSbAAAAAAO4lILNc+tvxX3feaM2sNxJSctKy4QmEWwCAAAADOBSCTa/+tJa/N5T/1IbUF5ISctMy4amEGwCAAAADOBSCDaH2UqzV0nvAU0g2AQAAAAYwNsdbH78W6/WBpG7UdJ7waVOsAkAAAAwgLcz2LyYoWZVhJtc6gSbAAAAAAN4u4LNi9H9vFfRLZ1LmWATAAAAYABvR7CZBvOpCxwHKf/hmy/H577/47z8cfbvunkGKQYU4lIl2AQAAAAYwMUONs+tv7Wj0c//l6+/GGd/9MtyKRvStPRc3Wv6lbQOaV3gUiPYBAAAABjAxQ42d9IF/feeeiFe+8WvyyVs9s8/W8/nqXttv6JLOpciwSYAAADAAC5msPnym7+uDRi3Kse/t1ouobc0T91rtyppneBSItgEAAAAGMDFDDY/s/Sj2nBxq/IPNV3Qu6V56l67VUnrBJcSwSYAAADAAC5msDl68ge14eJWZTeDzbROcCkRbAIAAAAM4GIFm9/58c6Cx1Q+9/1z5VJ6S/PUvXaQktYNLhWCTQAAAIABXKxg8/PP7zx4vGfxX8ul9Pbxb71W+9pBSlq33fDjE4fj3x3/bvlod3S+x49j7qP/Lh74h/IhbZqzbwSbAAAAAAO4WMHmnRcQPP4vX3+xXEpvaZ661w5S0roN6rvH/10cPvHj8lF/naHjd+OBfzf4azd5Yy4O17x+d4PNtM4PZP/dubS//l223lV5+4JFwSYAAADAO8rFCjave+al2lBx0PL6L86XS9ps+Wfrta8ZtKR1G9TOg80Lk5Z1+PgDcfijc9H+7pdusFmsS+f2p+Udjrk3yocXlWATAAAA4B3lYgWbv/fUC7Wh4qAldTXv5UK6oaeS1m1QHcFm3oqyPfjrDM+2Ch3z56vWjF2BZaf02hQIVv8vJ2dq3+NE0bqzWHZ3MFm0HC2ea1vWPzyQL6dqYfnAqfZlZKW1fsV7VNN7hrxpeX23KemzrK716Xy+83V5qd6rbNlaTd/Y3+W+aQ8203t0v36XvPba6/HVr50sH/WW5hFsAgAAAAzgYgWb/35uuTZU3E6pG0ToQgYNqkpat0ENK9jMn2sL0/IAr1e4lt6nfC69rj0ArHuPTcttPV+Emq1wr225VcjXEfz12L6N9y+W1xFIljr2U60tltW9Pvnjutaj7a/L/t227Z37uHP/dy+ve7/uhv808Z/7hpvpuTSPYBMAAABgAE0KNlM5eOqH+WBCqVzIfTXby8UPNrsCxlyaVt9NOy2nNW97GJnp/R6l9nVMYV5r3iTNX75neq5tubnu7asLF+teV67HRlBYPC5aR7a9X79lbVpu/f7pDG67dKx/575Jr9u0nzZtx/D9xRN/Gfd/+sHy0YYUaKbnEsEmAAAAwAAuVrB5oV3Rd7Nc/K7odSFdXdiZtIeCXeFgenagYLOYP5+3Yzlty6oLKOuCze556gLKTH2LzbR+fd6vfVmbnt+8z4rtqX/vje2rnm/fN3X7NCsXIdhMqpaZle6WnIJNAAAAgAFcrGDzQgcP2s2y48GDLijY7A4x61sk1gWAabnVOgwWbBbr2Dlvl7qgsS7Y7A4S616Xyd9r0/S0fm3BZr9lbVpu1/7J161uH7ZN61j/9n1Ts58usirc7A41E8EmAAAAwAAuVrB55wUO8JNKall587Mvx33feSMv6d/DaAma1q2XzjCwO5DsfJzP2/24R+jYHfzlrQxrAsLalo9toV/de/R+3L3+2RxvlMuuCyjzYLA9bC2Wt7E+xfI2t8xMut87SfNXy9tiWX2Dze7XlrpeU7TcrAs2M2nejmD1x9m+KP9Zrkv7firmb98X5fJrjtmg/umfl/PSTbAJAAAAMICLFWx+/vntDfLzob99Ke76b6/HzD+di//6+pvx2i9+XS5ps/RcmifNm16TXlu3zF4lrVs/RUBWlo6gLlphZiopaEvzdoZn1eOuYC3T/tragGxTsFhpC942vUc2/4liWl661rd6bfV8uq9kPkdXKFjZ2PbOgLD1+tpQc0PHvts0f59lbVqftmCzbK3Zvtxi/TqX98A/pNdshJfFurSFmeW+K0pqBVs+Uy6/fX2KY9V+LMr3uoBgsxfBJgAAAMAALlaw+Z0f/7I2VOwuaVCgH/3qfPmqnUvLmMiWVfce3SWtG1wqBJsAAAAAA7hYwWYyevIHtcFiVSa/s6lp4gW792z/cDOtE1xKBJsAAAAAA7iYweZnln5UGy5W5Vdv/aacc3jOrb9V+15VSesElxLBJgAAAMAALmaw+fKbv64NF1P5f83vXsvJfgMMpXWCS4lgEwAAAGAAFzPYTNJo5nUB4x89+3I5x/B95L+s1L5nWhe41Ag2AQAAAAZwsYPN1DX89576l00h4//+f/1rOcfwfeK/vb7p/dI6pHWBS41gEwAAAGAAFzvYTL760tqmoPFz3//xrpbu90vrAJciwSYAAADAAN6OYDPp1SX9YhRd0LmUCTYBAAAABvB2BZvJx7/1am3wuJslvSdcygSbAAAAAAN4O4PN5GKGm0JNmkCwCQAAADCAtzvYTC5Gt3Tdz2kKwSYAAADAAC6FYDNJg/nUjZZ+oSUt00BBNIlgEwAAAGAAl0qwmZxbf2uorTfTstIyoUkEmwAAAAADuJSCzcrLb/46PrP0oxg9+YPawLJfSa9Jr03LgCYSbAIAAAAM4FIMNtt958e/jM8/fy7u/NZrcd0zL8XvPfVC/Pu55bykf6dp6bk0T5oXmk6wCQAAAAA0jmATAAAAAGgcwSYAAAAA0DiCTQAAAACgcQSbAAAAAEDjCDYBAAAAgMYRbAIAAAAAjSPYBAAAAAAaR7AJAAAAADSOYBMAAAAAaBzBJgAAAADQOP/mpZdeCkVRFEVRFEVRFEVRFEVRlCYVLTYBAAAAgMYRbAIAAAAAjSPYBAAAAAAaR7AJAAAAADSOYBMAAAAAaBzBJgAAAADQOIJNAAAAAKBxBJsAAAAAQOMINgEAAACAxhFsAgAAAACNI9gEAAAAABpHsAkAAAAANI5gEwAAAABoHMEmAAAAANA4gk0AAAAAoHEEmwAAAABA4wg2AQAAAOAd6K677ir/9c4k2AQAAACAdyDBJgAAAAAQ8Z1H4pprrmmVDxy8Ke76zDPxgzfL5y8xQws28+3+UDy0uHlD3/janXHn194oH12YXy88sK1lCTYBAAAAYBAp4Pv430Qrevvp8/E3n/yD+MDEs/HTctKlZKjB5sEPxYf+34/E97qyzWEGm9979EOCTQAAAAAYuu5gM3n9RHzsmkfie/mD78Uj6d9vPh9/fuRD8YFrrolHvpM/EW++8DfxwEc/ULb0vDM+v1hEoSkYvOZTfxe/zh+VfvV38cA1d8bfXGBeONRg88FnY/HBD8UfPPq9jnXdFGy++YP4m08dzrf9mg98KO58bDF++lbx1E//y0R84OMn4o3ycbz1Rpz4+AfigYVX4+8e/Fj8wQeLVrA33ZyV//P5cqbeBJsAAAAAMIi6YPOHfxk3faA92DwcH7v9rjjxw7b476fPxsQH74wTr5SP33g2Hjj4B/H5f8r+/dNn4q5rHoi/+1XxVJK6ZF/zn5654FagQw0203a/uRgPZev9yD9ubFtnsPnTeHbiA3HnV14uHr71Rjz7qQ/FH8xUIWX5/Mli/vTaD3zq76JqBPq9z16jxSYAAAAADF1XsPnrnz4ff3nkA22tGFOweU386Tc7+2unAO+mJ8uwr/S9Rz9QTvtpPPOfrokHFqqw8Nfxd5+6Ju762wvv3D70YDP755sLD8QHUpf0MojtCDbf+Ju48+a/jI4t/cdH4gPt08qQ92++k837wQfi79p2lWATAAAAAHZDCvhSF+uyfOAP7oqH/vYH8WbVtToPNjd3IU+BXfvrWuWzRTvPN//LxEZ39Lwb+kQ8u5Y/dUF2I9jM1jb+7lMfaLXC7Ag2u/bPRqlatBbyLunXpC7onQGwYBMAAAAAdkNXi83NegebfQO7PMwsuqPn3dC777m5Q7sTbGZSq8sPFF3pNwWbffdP4eUnD8cHPpC6rHfOKdgEAAAAgN2ww2Dz5bnDW4SVv46/O55aMP40bw35wLeGEWvuYrCZyVtd/m9/GX/3lbZg85UTcbjrfqGb/PAv43Dqyv5Gul/nnXHi9XJ6RrAJAAAAALthh8Fm1cLxgW++Eb8uu63/+o0fxMttt9H89bceiA/8p7virg9sEQxuw24Gm9lG5QMB5S0vW2FkMe0Pjj8bb1TZ7K/eiB+8Um7oWy/HX/5vH4qHFosu6Pn9OttGSX9+5kPxoQcXW4MJbUWwCQAAAACD2GmwmbzybDx05EPxgfyekx+ID/1vE/HMD8vnkrey137gmvhAed/NYdjdYDOTBgvK1rmjleVbL8ezn7kzPpRNT/fX/MDBwzHx/ymGDkpd0DuDy+J+na0u6T/9u3joox8oXvdYNZJ6b4JNAAAAAHgHGlqweYkSbAIAAADAO5BgEwAAAADgEiPYBAAAAAAaR7AJAAAAADSOYBMAAAAAaBzBJgAAAADQOIJNAAAAAKBxBJsAAAAAQOMINgEAAACAxhFsAgAAAACNI9gEAAAAABpHsAkAAAAANI5gEwAAAABoHMEmAAAAANA4gk0AAAAAoHEEmwAAAABA4/ybl156KRRFURRFURRFURRFURRFUZpUtNgEAAAAABplbW1NsAkAAAAANItgEwAAAABoHMEmAAAAANA4gk0AAAAAoHEEmwAAAABA4wg2AQAAAIDGEWwCAAAAAI0j2AQAAAAAGkewCQAAAAA0jmATAAAAAGgcwSYAAAAA0DiCTQAAAACgcQSbAAAAAEDjCDYBAAAAgMYRbAIAAAAAjSPYBAAAAAAaR7AJAAAAADSOYBMAAAAAaBzBJgAAAADQOIJNAAAAAKBxBJsAAAAAQOMINgEAAACAxhFsAgAAAACNI9gEAAAAABpHsAkAAAAANI5gEwAAAABoHMEmAAAAANA4gk0AAAAAoHEEmwAAAABA4wg2AQAAAIDGEWwCAAAAAI0j2AQAAAAAGkewCQAAAAA0jmATAAAAAGgcwSYAAAAA0DiCTQAAAACgcQSbAAAAAEDjCDYBAAAAgMYRbAIAAAAAjSPYBAAAAAAaR7AJAAAAADSOYBMAAAAAaBzBJgAAAADQOIJNAAAAAKBxBJsAAAAAQOMINgEAAACAxhFsAgAAAACNI9gEAAAAABpHsAkAAAAANI5gEwAAAABoHMEmAAAAANA4gk0AAAAAoHEEmwAAAABA4wg2AQAAAIDGEWwCAAAAAI0j2AQAAAAAGkewCQAAAAA0jmATAAAAAGgcwSYAAAAA0DiCTQAAAACgcQSbAAAAAEDjCDYBAAAAgMYRbAIAAAAAjSPYBAAAAAAaR7AJAAAAADSOYBMAAAAAaBzBJgAAAADQOIJNAAAAAKBxBJsAAAAAQOMINgEAAACAxhFsAgAAAACNI9gEAAAAABpHsAkAAAAANI5gEwAAAABoHMEmAAAAANA4gk0AAAAAoHEEmwAAAABA4wg2AQAAAIDGEWwCAAAAAI0j2AQAAAAAGkewCQAAAAA0jmATAAAAAGgcwSYAAAAA0DiCTQAAAACgcQSbAAAAAEDjCDYBAAAAgMYRbAIAAAAAjSPYBAAAAAAaR7AJAAAAADSOYBMAAAAAaBzBJgAAAADQOIJNAAAAAKBxBJsAAAAAQOMINgEAAACAxhFsAgAAAACNI9gEAAAAABpHsAkAAAAANI5gEwAAAABoHMEmAAAAANA4gk0AAAAAoHEEmwAAAABA4wg2AQAAAIDGEWwCAAAAAI0j2AQAAAAAGkewCQAAAAA0jmATAAAAAGgcwSYAAAAA0DiCTQAAAACgcQSbAAAAAEDjCDYBAAAAgMYRbAIAAAAAjSPYBAAAAAAaR7AJAAAAADSOYBMAAAAAaBzBJgAAAADQOIJNAAAAAKBxBJsAAAAAQOMINgEAAACAxhFsAgAAAACNI9gEAAAAABpHsAnb8fJCzDw2H8tvlo8ZzJtLMffwbCyeKx8DF9l6LH15Oma/vVY+ZlArz87EzMnlbA9CMzhnLyGXUP3HeQHAO5Vgc9hem4tDe/bEnk1lX4xePxYTT56KFd8rG2otTh0pjuehE6vltEvc2qkYT+ffe6djqZz0dlh69Kric3B8sZzCpWjxeHW96iwj7zkQh45Mx9zZhpz3bPbcdFyVH8+paMqncO3p8fz8u+rht/HqVV1D9xyKudfKaVwi1mP5ybHYl47PsP+2tNflRiZjYdAk6OxUjFSvu3ku3pYrpnN2C6sxd3N5jLrKvqsPxNix2Tj14vAq6pdM/cd5AcA7mGBz2KrK8Mj+OHD9gbYyWlS+8+cOxNRZv5c20epTh2MkO37T323G8Vs7OVZW2Edi8szbt87r352K0T37YuykYGxo8i8pw/2CUgWb6ctdx/XrPSPleZQ9d9t8rJTz0yDrSzF1dXH8mvEpXIv526q/mdsIloZuNeZvHYmRa6djyZ/tocnDngsJes6vxPxdo63r0q4Gm1kZOzlI0LUeC5/cuFa+bcGmc3YLVbA5Evuv7fxbN3pldcxH4sBDi0Np2Xjp1H+cFwC8cwk2h62qDNdVaM+vxeKjB4tf80fG45RuueyqlZj9cDoXD8fhkez/t82HxsLvHEVrtt0JNqfOlhParL84H+NXF8+PPvp2tv/lsvDibBzMzrVDtx7O/2YOFizRDEsx/d7sWrLTMPLcQkxemwLEfTH20GRR59qlYPPA/ZMxlpY/yN/Pc/P5vCOfnIyJ9Jq3LdikvyrYrP/7uXZ2Og6mOtOekRh/2nUHAJpAsDls/YLN3HosHCt+0W9Md2aaqex6euDxpbIVycGYfbF8joZbi1N39f5itlP9gs1cGTbtGWlOd2aaaenh1H3zQMw+txCTKWT48KyWwu8Uz8/EgXQd2UkYma5B6XwYORCTz65t1Ll2q8Xm8fmy5fDWfz9XnjyYzXdVTD87X3T5FWxeovoHm8n6sxNFIwTHEAAaQbA5bFsGm0WFKe/q0lERX4yp9mmrCzF9W9V9fSQmv11Mbjm/GosnpmLs2v2t+zntu/pQjD+2xT08s+XOHDnU1t2mrmyEFqsnDmWPq8rfWiyfmIiDVbfUP5zr/KK5uhTzT07EWFu3+3RvvrHsi8FyzToVy86+uKYvC2vLMX98rLVerddVg/SUz7e6xF45GoeOzNTfjL1qafF4WrtsnU9m++nqfcXr0i0CbpuK+Reqfjjl8639uC9Gbx6PmR4DbPQKforpE0V3ydXFmGvblvSeB7N1PfVy774/q2dmYvzmttsV1JVtfXGrusQV+3f9zGS+fQef7B8NFOtxIPbnrRVS6XNv2OqYVPs2K73uxVgc6x5hfvexrS1tX0C6ju/K6Wydb2z/HIzF1Iml7JnNdu2cq2Sfy4XHxuNQa5+U59OZ+qvBTs6b1TNTcbjXvmq77qydHs/Pp+10Pd4y2EytgK9P83R+IdzWdSKz9uKpzutQ+bnsfw/P7s9qfdk4x7ZzTc3OozNzMZ2t08Z52O/Ylcs+tpB3Vcw/N61zcPM1pPPznbo/ZudojwEcdvu6uOlv0wV8nnLb/fwOYr0MM69PYWZ1LdsiWKrWY4DrUTL4ta481j3uTbrda/fO/1bs3jlXWXt+PqZu29gnrfOt7uDv5LxZX4rZIwd77qve1512KzH38bGYe7l8WJ3Xff8+LsVMauG5ndvItC23+vvZ/16vZQ+JdD/rl3t81irbqCvlt79Jz5fHfZPsvfIeGVdn52drUMPe52zn+Zfqgwdbx7uoQy5uHLOu+uKm60+b6m9872PYO0zcrXXqbetgM12D8la3dZ/7HdV1a+o/5TlWTV97fi4mWp+hbN2+v8U90lv3cy33XbcXZ4sfEI6cKvdf7/MifYbzv68dt83K/i5n15XpE4uxer6crd026zsAsJsEm8NWVYb7/cqbVUbySkBHRbyscGSvW6kqqqlSkd/352DMPFfOlryZzZt3wyorU8emY/pY2xe6K8divqr0t1nP3nc0f/5Q9uVtPhbOLMSpE9MxVi5rz20z+bSlti9VG5XV9azyWdzPqnX/vWNVZSkpu5aVX6AmHs7W6eGs4tdap8lY6Kp4Vsue+PKpmLi6c1taldY/nI3ll+djLD3Ov7RPxvT94xuhSV2X/uoYHJuLU8eydc5Dk4nO9Rk5FLMvrMT8belxURmbfHiy7YtZfRekXsFPMf1AzJwujl3alnxd299zz2hMbfpS1bZfb56I2ZML2TE4FXMPZ8ezrNiPPZamLcXKdiruVaW81cqpPD49BxHaWI/WcciO4UT2Jbc4FlfFdPs5WJ2jrX2XzZ8dl0NV6NTVba9nxb51rmfv+XB2vLLzb+HkbEzcXO6z/2Uy5rJpiy+sbXypax3f7BzO17kMJLJ1mGz7QjRy6+ZAb9fOuaTtc5m+1OefgdZy6+/XtZPzZuXpdGwm43D+ebsqDn+yOFZ5eXLjC2B1ru7ZczjmB/ye0ev83lD/hXDw60S2/k+Vg320f+5aAVOv+5qtxNytad9mz398OuZOp8/EfMweO1QuazQmT2TTzi7HWuvFg19TW/eirY53x7k0Eoc2/SBQLvv6mewLbrq9SN01ZF9MZl/wFh86kD3euC5OtMLV+i79u35d7BFs7uTztKPP7wCqH/9aP8SUrc97Bkvbuh5t81rXMwzY2bV7538rdu+cS1qfyzxcTevTtty6OsVOzpu1xZhNxyZ7Pt/OD48X162ynOoXXPdSrUe/YLOaJ63PQz3OoW4dy832fdqefoPwledofs5Wr62tB263rpQGLSyufZvrJNl1Mb8ed58vvc7ZtvMv+5ymlq95cHh/5zHb98mFWM3qi+k8rrv+7Ll6837Y+BtQTthkq2Bz+OvU2wDBZs99uPO6bq9gMw/PW/Xz0eJv1LUTcWqtbT1r6vSLx8vrfVYmnt18hU2heOf79tqm6u/rxr7PP/+tv8vZ57/778kO6jsAsJsEm8PWt0JbWPlyUckpWjpUygrH9Yfj8NVZpeD+U/W/kGZLTTf/ThWHw49nX+LLqZXV05NF5ejqqa6bgy/HTH5/vLoKUtnSoKby0qqQpfucZV9uZp/vfscNq88txPKmwGfjy193a8Fq2bXbcj5bp7xCl1ViR0Zi9JPd+2NjuVd1f1Fr/xJz6+ymX9BXnizfN1vuyNWTcarrQLUqmDVfYnoFP9X0Xsdl5UTR6mLTefH8TPFeKXwpJ7VU3X53cG/MKqhpvy9d0bWzxyBCq/NxuNd6ZNZeWOlYh6WH0jl4VUx+u2ZZ66ux8lrn9PqKfepO3Ws51S0bukOGTNvx3VNz/PIKd36uj2w6Trt2zrU+l6NF98h22XKrUK77y8eOz5vs0VZfzFotfWpaTPbS6/zesBiT+fp2thAZ9DpRDKKQvb7uuK0tx2x1bXuq88nU+jRty1X3b/6yVHUZ3Bx6DXpNzayvxOLZ1U3L3gjuugevKZfdY1vWzkwWI5Cna8zI4c37oxXEjWdfXstppV2/LnafSzv+PO3w87ulatCg9r9HZZjQYxChbV2Ptnmt2zjWXWHADq/dO//M7945V30u87+XXaHM2rfLz2z3rQAu4Dpc/+PuDlXr0W9Z5cBZefBbd47U6Vpu37+f6XzPWxWX52yvz1ppu3WltC8n8/O/8weLqi65Oazucc5mNs6/7G/V6e6TaKF4n2w70/Vl8/m5EYB1h6zVdav3346tgs3hr1NvAwSb2eclP4Z5q/FOO63r9gw28/ug74uxJ2uuB48f6LFt5TXxrvG8VefIJ7tb9KZrcNrGsvV/rsd5kX3+e/19TctZfbH7b+PO6jsAsJsEm8O2RYV2o7I/GjPPl9NyG19aRlrdRmpkXwjyLz19wq6iAt412EK1Xj2WXVWeegdBozv4glqqusN0ffFoLbtHK4hWl/30RayutWJV8exuSVRta68v1a0uRlll8XRdxSurmP1hen5zS7dewU+rYt7zuFS/8tcHQvUV8pWy2+/mLyf99Qiqqy/bdedA1SKqR2ueTqkFSVr+5i/IvdRX7Mtzfovj3/PLQJ/QpBhYp/vHg10857ZqUVZ9BrquCzs9b7ItGaDFSbY92QV+O18tep3flSp0Gbmr8xwa7DpRrXOfsKscfKP7+BTrtcXnuU8Q1Pea2lf15bB7P28su+M621J9drNz8IvL5bROi/en50di6rvlhNKuXxe799OOP087/PxupUcoWNy/sO5auc3r0baudUl1rDuvwzu9du/8M79b51xdkNyu+gx0BZQXcB2+6MFmcn491uo+L710L7ff38/q1gnVc70+a1vpUVdKqh9cW9ey6nOevUd38NbrnE22Ov+qumBqGVx7Fn17Mn++u+Vr9Xm4oGBzyOvU21Z/PzdCytHH6j9LtXocv2rf9K7L9BmQr7xe7bm/60iW08efXimuf5vue52dA+mc7Lg+158X1ed04GB4h/UdANhNgs1h61GhXV9bjeUzszFRdt0YzSo+nYFDVeHo86U/s/RoEVr2/SW0qgi1V8Cr9epxn6bql/+ewWbPL2ED6LFPWsvu9YWk+vLTM5QoW491V55alcXNlfpCta97fxEuvgD2roD3CjYPfXnzV4xCfUW62gf1x7MKWHttRw/l8d/8C36PwDOpvpiNHIypAe6PVIUMo3fN1d9/rUt9xb48DjUtInLll5XeXwYme++XHl+cd+ucqz6Xvb/U1X+h2Ol503v6hak9v1Mg8PJSzD9cdvseObyp1fdA14m18n5hvY53rgqpOq+DxXq1tzxp1+M60Nrn/a+pW6n/zFfL7rX/q+PT+723vObu1nWx5/Vyu5+nHX5+t9CzZVyPwDPZ1vVom9e6jWPd+dnd6bV755/5XTrnqs/lps/Phtrr9wVch3tO34lqPYaxrHabllvt381/P4seEm3nbK/P2lb6vq4K20bi8ImF4m95zbW4UH/OJq3zr8fnsjrWPYP/KlDt2t/V63r/Dez9N2u31qm3HuuyvharL2T79u50K4fs+Y77lg6gx/Gr/fwk1fw9f1RIsmO5KaCs6hzF38Qi+O363NcGoj3Oi+raevV4zPXplVXZaX0HAHaTYHPYWhWVXmVfHHqsbiCGqiLQ50tCVlWavzXN0+sLfqlqwTQy1VYRqrryTWy6/0/+JaxHhb1VIev5JazNehrQaCa/V1m6R9D+VBlrbXdWBq3sVbb88lPus+4vAVt+qdi60lVUtHtXwLsrdL2mb+hRka5CyLrAuaqsbytUrrrE1XeZq7qob+rqllnP1iUfbTatz3sOx1T25Wlzd6vKSpy6q2jRkM7pNODF/HM1XXlL9ce6ailUNyhI9iXu/lR5rvmSvuXxzfQ4d3bnnKvCuEFKZ5i+4/Om5/QLU61PrzJy7UTt/XsHuk6U3d16/bhSqVrntHdHb5233S2/MuvfLrrg9uyK3veaumHthVMxm+7LmO5v1rrX4UbpPEZbXUO2Pj7VPus+9hf9urjjz9MOP7/9tELHui7n/d5ve9ej7V3rehzrHV67d/6Z36VzrgpABigdwdIFXIe3Poe3oVqPYSyrXc1y6/9+lj8YtgdPW+2bbdaVNmT1uLzHTyop4Ox1ve19rmx1/m15/emxv3tdzzb0Pj93a516q9ald9l380ws9ap4DauuW61339vFVPWL9np/WZ+vzrnyM9z++azes7MVZu/zYuXp8eKWE1nZ9+HxmDm5FKu1F9Cd13cAYDcJNoetqqi0BqmoBieYibnTvSoKyVZfWpKtv7gU6pfVPnjQ1IlTkQYKWjg9F1P5QA/1leQtK5SltWcnywETRmL/jWlAg9mYT8tP5ansufS+g1b2KsP+At+y9b4uKtqDV8B3/mV1o8vTvpunykFR0qBOU3Eo3YS9Z4uMHqpgIN++PqVH99F8tP0n20a0zo7ngY/PxEKPQ5RGt94YaTor6dw6ufk+UT2P9cvVPQyzz8ljxYBWaVCYmY8XLSY2t2zObHl8Mz3Ond0556pj2zWQT22ZjcW2nbPz82bQa8H2VOvTGvinGojlyfl8AJheBrpODBhm1C9r475d6Xysri3zj5UDtdS2rBnkmpp5czlm80HEsnmvHM2v1zPV9TErMx8v9knnMdpq2Vsfn2o7u4/97pyjmV6fmwv4PO3o89tHNfp0/l59Sq8ukINej3IDX+t6HeudXbt3/pnfpXOuOrZdA/nUlqfb6ggXct4MeC0YSLUew1hWu7rlVn9f2/9+lq3dBg19d1JXale1uu15K4pc73Nlq/Nvy+tPj/3d63q2off5uVvr1Fu1LmkAoPJvXT7AZHHtX+q6R3i7odZ1+5wn7arXt0LKsqv3xjnXFXS2wsdtXkPWVuLUw20DMqWGGJtGeq/23fbrOwCwmwSbwzZgRWWzrb60JHW/3NaobbFZaA0EUJV8xPCpmO/R/WTLCmVSdWPpFcL12CdbLnvYX+Bbtt7XRUV78Ar4zr+sJmvZ66vWRkXJR/3cVKHcWtWipBVM1ZRq1Mr6QRA2pBZs0x8tR8XdKmBNLRhSSFBWiLsDjb7HOjte+X0VW6UY7XemVzfRQT5jPc6d3TnnqpbU22ydltn5edPvfNq5rden3kDXiapl2A5abObOZ9uct9jbKPkIro8t9BgUaJBratXCuThn6z5u9ftkq2VvfXyqfda9ry/6dfECPk+57X5+e6paZKbRteuvXQeuL0PLHoMItWxxPerW/1rX71hv/9q988/8Lp1zVUvqnrc26OFCzpstz+FtqNZjGMtqV7vc6nqxca0vbp3Q1Yq4177ZYV2ppfVDwkh+zOoHe0l6nytbnX9bXn967O9e17MNvc/P3Vqn3rb+rNQadl13q+NdKYPM6m9nXdfz4jysvhuUtyPZdJuQra4hlfVYPTsbEx8uf/Dr+OFw5/UdANhNgs1hG7SisslgFY6B7rFZVYK6v6iUI4NedWzwLzBbVigz1TybBgioVIHGoJW9yrC/wLdsva+LivbgFfCdf1nNDks+Iu1VMXF6W18ra1T30KzrqrmhahW1+R6c9Vqj9G4RSOVag2N1hu+9j3U5uubNM5tG4+1pkM9Yj3Nnt865YlTm/p+TOjs/b3b4xWwLW69PvUGuE4PdY7MaqGTzl6ZilPdDMfPCIGdtMsg1tZqne6CWyka3u859stWytz4+1T7r3tcX/bp4AZ+ntJ3b/vz2UoUG3aNvd+h/q41NelyPeqm/1vU+1ju5du/8M79L51w1SvymwUe2cCHnzZbn8DZU6zGMZbXrtdzqFgTp72fVgrP7lgM99k21/7dbVypUtwxKA7RVgXqvkad7nytbnX9bXn967JfqdZPfLidsUg2Ktfn83K116m1nfz93evx6rn+P82Sz9haZ5bp397rJPlPp2pWvW7kem+9JutU1pNtGq/T2bd5pfQcAdpNgc9gGrqh0G7DCUVWc+tx3sfjldvPIqcXIh4N9watsWaHMbDVPtT4DV/Yqw/4C37L1vi4q2oNXwHf+ZbUMTvqGPQMa4NwoVF8w+t2wvl2vwVnq1Q1Q0fNYl+vcN6jvNshnrMe5s2vnXLXv+4Yym+38vKlaTWTT+7SkHfao6L0Mcp1I53rRIq9PS48eo6K3ztlBwvWWQa6pW8xTrU9WOvfJVsveYciUuejXxQv4PO3o89tDr79bmwx8nSv0GqSpXt21rtex3tm1e+ef+d0656rPZa+QrIcLOW+qVqLdIz3vRLUePT8PpQsdFb2l+gFxIuZPFiP/b9pvPfbNVp/tXnWlZOXxYoCs1n2Gq9B+5HDMbzrevc+Vrc6/La8/PfZL9bqeoV/1w0XN+blb69Tb1p+VOjs9fj1f1+M8qbN4PIWJ2fo+V/xAWHtP6RSy3zofi/k1b6Rmf251DalR3S+4fd/usL4DALtJsDls26iodBq0wpG+TBUtVg4/vrzpS366/0/e1fzqqVjqejK1eMorV0+uDBwObFmhzLTui5Ztc3clZ/V0uT7l8wNV9irD/gLfsvW+Lirag1fAd/5ldSOgmn1xG18qaxQV38FaMlWjCNcNItRtLTu+qRI7MsiXhvPZl76a7ex5rMsvuFfdvxBrtd2JawzyGetx7uzaOZcfx6IVw+hd87FScwjWzy3H0oudUczOz5vsS1TVaqLHgD1FC8fsuPUdmKDT1utTb5DrRC77QlRcnyZjoTtUT/e6LO+juakbeiyVI8PWvK6nQa6pVUhxVUx+u+ugrVXrU7dPtlr2TkOmAfblsK+LF/B52tHnt1a2znkX2y26mOcGa5me63E96qX+WtfrWO/s2r3zz/zunXNFy9PstSMHY/psTVx8fj1Wzqa2Ym0u5LypWolmn+dtjTpdp1qPnp+HTNlbJd3mYNPnvJc+y63+fual7pztsW92WldqHZ+u11X3TR+5tXt5vc+Vrc6/La8/vfZLFXala3T3KdRxLd18fu7aOvW09WelztDruj3OkzrrzxYh+vhdqYFCXWhZ9XYYz+ZJ/6/rhbDVNWSzlSfr1n1n9R0A2E2CzWHbRkWl0zYqHOmX+muLSsXIew7G+P3pJt0TMVaN5HvlWO3Ixe2v21SuHI1DRzYPnLBlhTK3FDOt9TkcE/lNw6v1GY3xp+eKL62DVvYqw/4C37L1vi4q2oNXwHf+ZbX4clLcjH5z6X8PwTZ1gxr0090yLttnY+m+nNVgMdUxvLa871w6p9rWe/GhYnCsYmCsokweOdS6f+eBh5c6wvPex3ol5quBW7pLr/u/DvIZ63Hu7No5l7y5FNM3Vp+vzvsEVjfj737fCzlvWiFh2t8fn8yPwcRtM63jXy17z57DMd9zR3Xaen3qDXadKKw8NVYO7pLto3LAhskjB8uRZbNteaj+vnEbr+suaQCIsZpBYrb+nCdrp8db63PwSLEfq/UZuXE6Tj1e/CDUuU+2WvbOQ6aLfl28gM/Tjj6/NarAoNegQN2qewlX82/rerTNa12/Y72Ta/fOP/O7d84l7aMip/uEVteuA9V+6X7fCzpvqh9os+euPFTUGe7PjsfTPZfUW7UePT8PmWqerIw8NNg51ne5bS25a8/ZnvtmB3Wl1u0UsuO6qV63HksPFV3SOwd/7H2ubHX+bXn96blfsmN6V3ktyD771bU0jRy+P11Lb52LuarVYdf5uXvr1MvWn5V6Q67r9jxPalQ/BqTS47YRVfiZl9p75vY4L7LPaT6IUvn3OC/Z5/FQ+Z1i5Nqsntj9R3kH9R0A2E2CzWHbTkWlw1ZfWrqtxfLJqY0vY1kpvkidipXa75HZ/CeKwRRqB5apRobtuin6lhXKypvLMX+8bTTFji+1ZZe9QSt7lWF/gW/Zel8XFe3BK+A7/rK6thxzxw7Gvq6KYVXSF4K03M0tMjpVX/QHaYFZ6BoEYT2NhplVZNvOpyIwqj+n1tKN5bMvLK3jncqVo/kxnzu7ea/3OtarZ6bjcHbudXyRrkoV1GdfGKbOttWqB/mM9Th3du2ca1mLldMzMX5z28jM+bEdi4knN+/HHZ83pbXn52LixuqYZe9z82wsV8+dKUZv3XfbfO/91GXr9ak38HWisroQM63gKSvl9aLu3Mll8+eDu6T5us+TakCZrHQOEjP4NXXt29kxa+3HrlCqbInUuU+2WvbOQ6aLfl28kM/TTj6/m1RdoQdogVnp+iFnW9ejbV7reh7rHV67d/6Z371zrmV1Meayv+Ot+kBa/+zYHjoyvXk/XsB5kzu/GgttIzCn95ncyX2mq/Xo+XlIlmP25ux8HDkQ09/tdy626bvcqnVcj1v79Ns326orVfc47A4u27Rao7Z/fnqfK1udf1tef/rul7p66caPTsWyN5+fu7tOdbb+rPQ0zLpuv/Nkk5WYvb54z573R6/uY133Xrke58W5xZg9ln3uW9fsVIp6y9SJxT4/rG+vvgMAu0mweVmoftXPvmB+u3dNY+30RF4ZHbhFAxem+kKSRpzseViyivKx9CVzJKa+W056hyi6Smdf2Hp0pc69MFPcl+vWwcM53mFem89HAs4Dol5fsM4vx0zePXnw1qlcmMv683uZX7sBAOBSIti8HFS/4tZ2TWmzrV+PuVDFYE57Yvzp/j9rb9laoZHaR/nsZ6tWSrzTLT2aBmToM+BQaaetTdmJy/vze3lfuwEA4NIi2LwcDNpN58XZOJDNN9AgMVyw6kvvVkHMyuMHsvnqbhbfZGXgsVWIvr4QE4PMxztWEVhu1WWw6hq6g66F7MDl/fm9vK/dAABwaRFsXg5a9yOrGa2yslbdCHw0pga9BxUXpDVgRhpRuJzWbe2703EwHbuaUe6brRrZ+FDM1g10lZxfifm7yvuLbRolm8tFNQLxoT73j105WQx8MuKWBRfJ5f35vbyv3QAAcGkRbF4mVk+WIwqP7I/Dx6Zj5sSpWDg9FzP5qJXVjb/3xdhTfe6XxpCttkYULkbYnIm50wtx6sRM20ib2XHpNcp9w61nX/yLEYXL0aifnI+FM/Mxm52Tg4ySzWVifSmmy5Fo9304jWQ9G/NnFmL+yWLk1oPlQCcj107F4pvla9h1l/fn9/K+dgMAwKVEsHkZWXvxVDHyYduIp/mIjuUIhsvnyhm5iNKoksWIvkUQUJR8lOHbJmL29HKs9RyR8h0gjcKbRijeNBrnoRh/eC4WXxNpkjm/GosnprtGX00j7m6M2OxMeRtc1p/fy/zaDQAAlwjBJgAAAADQOIJNAAAAAKBxBJsAAAAAQOMINgEAAACAxhFsAgAAAACNI9gEAAAAABpHsEmbxZjasyf27JnK/gUAAAAAly7B5rC9NheH8nCwu+yL0evHYuLJU7GyVs57yRFsAgAAANAMgs1hq4LNkf1x4PoDbWU09lUh58iBmDq7Xr7gUnIJBJtrp2J8z6GYe618DAAAAAA1BJvDVgWbN8/Fajmp5fxaLD56MEbycHM8Tp0rp18y3v5gc+3p8ez9BZsAAAAA9CfYHLZ+wWZuPRaOjeQtNw+dqJ/j7fN2B5trcequ9P6CTQAAAAD6E2wO25bBZsT6sxN5sLnneHt8WIaK1bTVhZi+req+PhKT3y4mt5xfjcUTUzF27f6iBWhW9l19KMYf2+oenuuxcnomxm+sXjcS+28cj5kzaW17BZvl9D7bFGenarapTc36jrznQBw6Mh2nXsw298xUHH5PEfhuKv3eFwAAAIDLkmBz2AYINutDwI3wcOXluTg8kv27dZ/OgzHzXDlb8mY277VFCJjCwbFj0zF9bCwOXL2vWO6VYzH/cjlvh/VYPD5azJMt++CRyZh+eDLGby4C1NHjszF9Y/bcsIPNcwsxeXVablauHN2472geZBatM1eezrYhW5fD703zXRWHP5kel+XJxbhkx1sCAAAA4G0h2By2AYLNlS8fykO+A4+vlFOSMjy8/nAcvnokDtx/KlbPl091WI35W1MgOBKHH1/eFPitnp6M0bScq6diqWt8onT/yry1ZPbcYvcLqzA1PT/UYLP/+sab7Su5GnM3p/fXFR0AAACA/gSbw7ZVsJlaW+atF0dj5vlyWq4MD7MycuRU7xaKZ6eKcPK2+Z7zLD18Vb6csZPtc6zE7IfT8q+K6fbWn23WTo7lrxtqsDnA+m4QbAIAAAAwGMHmsPUINtfXVmP5zGxMlF3IR48vRmeDyirY7B08JkuPFqHlxLNdzTHbPTcdV6VltQekq/NxOE27fjba24l2qNZ9iMHmQOvbItgEAAAAYDCCzWFrhYO9yr449NhSTevFKtic7AoV26Vu3WmeAzH7YjmpzvpCTKRljUzFUjkpvlu2nDy20BWotqvWYVjB5oDr2yLYBAAAAGAwgs1hq4LN1sA/5eA+D8/E3OmlWO2ZKvYKFdsNGvzVLKtXV/EOww82txdUCjYBAAAAGIxgc9i2usdmT4MEm2tx6kiaR4tNAAAAAC5vgs1h29Vgc8B7Vr44GwfSsrZ7j821UzFeuw7luv3hXM/XphHX61qELj1U3FPUPTYBAAAAGCbB5rDtcrDZGhhoJ6OiX5+Wf7Bn68n1ZyeKVp29gs09E7FQm0+ux8KxIsDsDjbXz0xua1T0ooXnoZh7uZwEAAAAADUEm8O228Fm3h09hYgjcfjx5U3dyteenYzRtJyrp2Kp68nUqjKFjCO3zsbym+XEyuqpmLw6vX/dOlRd4PfEoSc3t9lcPV2+Zyqb7uG5ErMfTs8V67sp3FxfjdVz5b8zVQvPQ1/u2a4UAAAAAASbQ7frwWbmzWzea4sAcOQ9B2P8/jQ40USMXb2vCBevHIv52haPK3HqrtFinpH9cfDIZPa6yRi/eTT2ZdNGj8/FTN4VvGYdnpuJAyPpuT2x7+qxmHg4e8/7x+NQ/p6jMfXUbNHVfVOwmXn5VIxXoemVo61BlQ6U6zt1tpwveW66DElH4sDH0/pNx8RtMxv3CgUAAACAjGBz2C5GsJlbi+WTUzF27f6y+3gKHA/F+GOnYqVvn+/u143E/hvHY+b0St76c/F4n3VYXYiZI4di9Mri/YpwdCYW8g0t178u2EzOr8bCY1UQWrx+5D0HYuz4XCy1tdhM1p6fi4kbq/XbF6M3z8Zy+RwAAAAAJIJNAAAAAKBxBJsAAAAAQOMINgEAAACAxhFsAgAAAACNI9gEAAAAABpHsAkAAAAANI5gEwAAAABoHMEmAAAAANA4gk0AAAAAoHEEmwAAAABA4wg2AQAAAIDGEWwCAAAAAI0j2AQAAAAAGkewCQAAAAA0jmATAAAAAGgcwSYAAAAA0DiCzYvgSz/4RvzRwvH4f3zllvifn/hf85L+naal5wAAAACA7RFs7qIUWqYA83+avb5vSfMIOAEAAABgcILNXXLX4hdqQ8x+Jb0GAAAAANiaYHMX7CTUrIpwEwAAAAC2JtgcstSlvC6wrC+3xtGVV2Pt16/G/P91a2u6bukAAAAA0J9gc8gGuadmUVKouRrr5evirdWY+/viubSMd6ZsG2/eE1Nny4fvROcWY/7sWvkAAAAAgN0i2ByiwVtrdoWapeUffKI1z7Zabb42F4f27Ik9VblyNA4dmYnFc+Xzl4wLDzbXX5iNsSv7LSO9x1Ux/Vz5MHlzOWZv2xd7ji+WE3bP6lOHY+SuUzF4tLkSs9dPxe6vGQAAAMA7i2BziP5o4fhGePnU4zF/7qWY/85GF/Oi3Bq3vPjqplBz9fXH49+3zZeWNbA82GwLx9ZXY+GhgzFy9XQslZMuDRcWbK49OxkHrh2P8X7LeHE2Dr63bbvPLcTktQdi/K5DFyXY3LbV+RhrP3YAAAAADESwOUStbuhPPR4LreTyF7HQCjcHCzVT2VZ39O5gM7cYk3sOxdxr5cMXT8XUbaOxL2/VuS8OHpuL5TfL57I1WnpsLEavLFp8jrznYIyfXCmeenMpZlqvG4n9N47H/MvFU9npE4sPH479I3XLzJxfifljB4vXXnkwJk4sxtyRHQab60sx/fHpWFrLtux472WsPH4gDj5ZrnvarofHYvq72YvOTm0ZbK6eOBSHvryc7Ytym0b2x+GHF7taX6ZtrvZVtj8+Ot3RMjYtY+N9UpCbHYPn2/bhlaMx9thScQ48PxuHrt8fI9m+G73+QBy4fiJOrWbT++5zAAAAABLB5hD9z0/8r3koec0PUzrVLoWbRwYONVNJyxpYXbC5vhATew7HfLUq55Zj6bXq3dfi1LGROHSieHL9zGSM3DwbK+fzhxFvrsRqHtatx8Ins/laQWE25eXVVtC39OhojB6vgr+1WP7ioRg5UnXDXo/F41e1PR+x8uWx2Dey8xabld7B5lJMv/dgzL5YPmw3YLC5Z89oTJ0p1/j8SszdOhKjj260e823+ZOnYrXcV2tnpmL0vZOxWAa6m4PNPTFy7WQRWCZrCzH53rau8puOXf99DgAAAEBBsDlEVbD5Pz31mZhb+3U5tbdeoWYqFxRsvrkSpz45GiO3zkd3xFppD+DWn52IPe3BZst6LBzb0xGybViMqZGJtpapmdX5OLynnJYHq20tRnMpeOzT2vLLh2Lk6plYLh/30jPYfG46rrptvj4EHDTYvHmuc5+9OBsHqq7t2TZNjnRvU7GPxp8u3rUu2KwC5Epa/9a0umCz5z4HAAAAoCLYHKKOEdG3CDf7hZqpbL8reuq2XJS8K/ljC61WhbnVhZg5cigOXD0aB1K35/eMtAVwa7Fw/GDsuzK97lQstw86dG4hpj68L/Z9eDxmTi/HWrXMrvfcKGXwtymwS/rfY3Pt9EQcONI7jK3UB5tFS8exkz3aNg4abHbP097ytXabOl9XF2x2r2v/YDPTa58DAAAA0CLYHKKOwYNS6RFubhVqpnJBgwd1O3cqxkcOxcxzG6FfbYh3bjlOPTYWB0ZGY/x0Z7y49sKpmPn4gRi5ejxO9Qwu2+wg2BxUbbCZt6bsakHarknBZmnTPgcAAACgRbA5RF/6wTc2h5Rd4eYgoWYqaVkD2ypkTKFeVxfrpUev6h30pS7d3V2yS0sPX1WEcnmQeKD+fpZJHgh2d9teidnrdyfYXHt6PEY+uRC9cs2Bg80/nMvWsk3aF61R1lP3+/qu6IefKvbWMIPNSmufAwAAANAi2Byyju7oVXnqMzFz7mex8upgoea2uqEnW4Vj6T6RIxNxqmywufb8bIxd2d4VvdPqU+Ox765qEKA251dj/si+GD9dPJMG0hm5dTaWqq7r62ux8uJqGS4WXcPbBw9afXoyRndl8KC1mL+tbUCeOoMGmwMMHnTVsa7Bg1JL0T6DB/UNNtdOxXgKgHuNet61zwEAAAAoCDaHrLbV5jbLtlprJlu2+luPpccOx/6RdA/MfXHw2Fwsf3s6rioDuLXTk8U9N/N7ZO6L0dtmYinP0dbi1CcPlK/LypWjMfbYUlvguRZLT47HwSvbnn90I8iMN5dj7tjB2Fc+N/7kciw8NDL8YDNtf6tVZQ+DBpv3z8fiw+W+Gtkfhx9u255cts2PjcVovs0jsf+jU7HQFkpuO9jMjk0aLb54v7GYX91qnwMAAACQCDZ3wV2LX6gNLAcp6bW8PTpDSQAAAAAuZYLNXbKTcFOo+fYSbAIAAAA0h2BzF6Uu5bX33OwqaZ5tdz9n6ASbAAAAAM0h2LwIUmj5RwvH8wDzf37if81L+neaJtAEAAAAgO0TbAIAAAAAjSPYBAAAAAAaR7AJAAAAADSOYBMAAAAAaBzBJgAAAADQOIJNAAAAAKBxBJsAAAAAQOMINgEAAACAxhFsAgAAAACNI9gEAAAAABpHsAkAAAAANI5gEwAAAABoHMEmAAAAANA4gk0AAAAAoHEEmwAAAABA4wg2AQAAAIDGEWwCAAAAAI0j2AQAAAAAGkewCQAAAAA0jmATAAAAAGgcwSYAAAAA0DiCTQAAAACgcQSbAAAAAEDjCDYBAAAAgMYRbAIAAAAAjSPYBAAAAAAaR7AJAAAAADSOYBMAAAAAaBzBJgAAAADQOIJNAAAAAKBxBJsAAAAAQOMINgEAAACAxhFsAgAAAACNI9gEAAAAABpHsAkAAAAANI5gEwAAAABoHMEmAAAAANA4gk0AAAAAoHEEmwAAAABA4wg2AQAAAIDGEWwCAAAAAI0j2AQAAAAAGkewCQAAAAA0jmATAAAAAGgcwSYAAAAA0DiCTQAAAACgcQSbAAAAAEDjCDYBAAAAgMYRbAIAAAAAjSPYBAAAAAAaR7AJAAAAADSOYPMdYzXmbt4Te/bsiamz5aSzU/njPccXi8frizF55Z4YuXYmloopbMtiTO05FHOvlQ/rnFuM+bNr5YO32aW0LrumOO9b5zwAAABw2RBsDtNrc3EoBYmtMhL7rx2LqRNLsfvx0uDB5p6rp2JpvZh0Serej1eOxqEjM7F4rnz+Ill5/EBXYLZ1sLn61OEYuevURTjeW7uU1mXnVmL2+qlsz/eyW8Hmeiwc2xNXPbz7PwGsPTsZB0Zqzqu15Zg7djD2j6TPQXYt+ehULLxcPjegnsvusnri0MbnrSyHTqyWz2bWlmLmttHYV34exx5eHOC86rMPq8/4bfP1y6mev3kuO8KDW3l6Ig6+Z6TcX9Od14xN1+ftLx8AAIBLi2BzmKovziP748D1B/JShBJ7YuTW2VjZ1TBxgGCzKfL92BZmra/GwkMHY+Tq6YvY0nQ15m/rDswGaLHJcK3Ox1j7ubDJLgWb57L3vf5gHLxyMhZ27XO7HstPjsX+G8dj/PrN59XKkxMxdWY1m6uw+tR49hmYieXycX/9l91t6aGROPxUr4hvJWY/fFWMP7VSPDy/Gqc+ORqjj27xaey3D9Nn/A/HYuy9B2P2xXJam5Uns9d9+OD2gsfnpmP06qlYKMPM1dOT2eO2a8Z3p7Lr8LwgEwAA4B1EsDlMda2M3lyOmTJwPPhkGQwkHa2x9sXobdOx0P6N+9xizBw5FKOphWVa5qZWUuuxfGIiDqbnR/bH4YdPxexdxby9g80UzKV5qqCoDEOPzMfyt6fjcN7SaU/s+/BEzHe1DFs9Mx1jV+/Lnx95z8GYOLG8ey0Bu4PN3GJMtoeKL56KqaoFWbb/Dh6bi+U3y+eyfbP02Fhr36X1HT9Z7vs321qepVZdN45v2taI5Zi9uQil911dBNQTT6eDUwSbs2fmY+LDbfvi6Y3jmrd8a+3vPuvRre/2tLdEy55P58JjS0Xg1Wd7OtclO+XSMb56NNuecv48gJ+IU2nT0rly/0Jni7cbs+da+yadKwdi5vSptm0/HNPfXo2Vk31ayWVnyeLDh1vneed2pWVmx/T5rtaA1bY9PxuHrt8fI+nzkf9QUK5rh+IcnnxqMaY/muat1qs6O5di+r1XxfRz5cNSCs5GPrlQvE+N9PxVjy7GwidHYvzpzjM97ddDX17Ojm25Xfnnr/2zmc6T7PxNx6Zcp9rg9bXsPLp7PlbOl/thy8C8OP8GCta3WHbavj1tIeni8T7h8Iuz2b6fjY4zd30hJkb6Bc7992H1GZ99PDuuj3d/JtIxG4v5k9k5uY1gc/H4SIydbH+ftO0jndfDpv3IAwAAQF+CzWGqCzaT7At1Cjf2vLdqPZRaQBVBz6HjczH32FgcyAOS9pZN2Zf7q/fH4WPTMf3wZIxdnebf0/rivp4t86q0zBQWHRlvhY6pbDvYbC1nIsauLcOzttBj/dmJIjC6dixmTszF1M3Fe3UEtcNUF2ymIGXP4Zivduy55Vh6rdpZa3Hq2Eir6+z6mckYuXk2Vs7nDyPeXInVPGxbz0OWQ23rvf7yao+Attg3nWFP2n8jse+22ViuXvTybLau43GqfNweJvZejxp9ticFSwffm50b1Xuur8XKapq3//Z0BJtrp2J8ZKK1nunxxMjGeufnysi+GHt8I7BeeTJ7/ZGqK3t5rlydHZdyhrVs+64aGYnRY6diNd/GtVg8PhojbeHR0qOjMZo9Ll6yFstfPBQjXcscuXZyI7BcW4jJ9iCyNuRut7FeVUu9WM227b2jrWXkAVtHd+iiBWJ32LkhBWtFS8L8GHZ1l873657RmDpTTj2/EnO3Zvuh1YIxnScH4+DNYzH3Yq/otF3ahgECy9QCsuMaMYj6Za+dnogDR6rWi9n5dqRPsPncdFz1h3OdwWbah31bgvbfh63jmp/bXS2x0/sdW8ivcYMHm9kx+MPNxzQFttXnaO3pccEmAADAO4xgc5h6BZvV9CqgqYLO9OU9nyH7Wv74gTwsnHi2R2rx7ckicMy/mBf3rsvDxVZrp+WYub6YtpNgs9XSKQ8Q07QqRKzmObDRZbSap7sV17B0h1lvruRdX/t1I+0IFJ+dyI5BW6DYUuy39iCwt2K764LNzmmd8w22HlvrCCVTi7n2YLOl//Z0LGNTSNS1fXmw2RUgdhyHYv6O+y5mz0y2nxdJx/tk+2tkojOIW52Pw3uqaXXL7AyjNp0Lm9QvI32erqqCxrSM9kAw3599bmuQgrUPV+f2RkBXyfdr92e8Y5nF52z8dI/P8iZpG7YKNtdj6aEBun9vMsiyV2P+1pHYd2X5o8bI/jh4ZDaWqvMt+7xPjozGVKsV7HqsfPlwdg3rs9wt9uHGcV2L+dtGYvJMta9SWL+veLzpnO0n7fPN69P+GcjvOXvlvuLaW7Zunv3upg8VAAAADSLYHKb8y3r2pXmLYDP/sp0/3lxaAc3acswfH4sDbS0x85J/SS/CnD17OlsopUAozbP9YPNQzLW6HFfzVCFB9biu9AucLkBrfxUl78L92ELZKrC0upB31T+Qd60+EAdSV+jWdq7FwvGDse/K9LpTsdzeSvLcQkx9eF/s+/B4zJxejrWeoWOxbzYHm93hSed8HWFiv/Xo1nd7yvslXrk/Dh+fi8VWy85Mn+3pWJe8td9ELFTdwN9ciIkru1ps1p63nefKlvujfTldx3GjVK+pW2a21B0Em93LyEPlVhDeGZ4tPXpVTffnStkKti0oXXr4qo4Wn53HuNTRorjuPOknbUP/+Veeyo7/rd2tJgex9bJz59ezLS+dX4ulxw/HSCuYzDbvhbmuWxDMx1TPQYm23oftxzW1pGzdFiC1LK4C4iEHm8l620dn7bnZODxSf49PAAAAmkGwOUxVkNP1ZTwPWdL0soVjFWzuv3s2Fs4sdJSiO3LVVX0kDj40H0svr8Xa6fYWm0WYM9RgsxUIVPNU0zYeT5/uXNeFM7t0n82twqxzqVv1oZh5buPda8Omc8txKu/mPxrjpzvjkbUXTsXMxw/EyNXjcao2nKkLzOrCk875trseuUG3Z301Fk9MxaErs/Oiug9lqW57upeRh2PVwFbptgLPtS1h14LN7YeSQws2W13es8epO3T+uKb1YLsUAOfne1dpa81af2x2L9hceXo8Dtw4HUtt91wdXP9l99Z1T9tuKYDcM1l/XAbYhx3HNW8ROhbz57LFnhzbaGnbJ9isrnV5yedJ29mjK/qXe8fBi/dvbu0LAABAcwg2hyn/sl590S6tLcZUeX/M1j0psy/seXfIbL76r9xVmDgep8owI33hz7/E54FK0QU5Pd4YLKMKQ9tCnqEEm9U8V8Xkt9ujtF20VZhVE3ikVnibwqZK6hbbIyBJLcnqg41iu7cM8rrmqw29Kr3WY7vbkwdH9funfXs61yWN8n6od6BXFyJ1HIcB90f7cvLAqqureoe6ZWZL3UGw2R1edXRFz6VAM/s8nel9LiT1gwqlz9ZGi898v3bfczId246u6H1CwU3SNtTPn4eat852DCS1Pb2X3VdHULtZuh71GnxpkH3YfVzTwD+HTixk87SFznXnZB9bDh60SXEd7T0aPAAAAJc6weYwVcFm1SquGn06K/tum28LQorBRvLpN0/E9MPTMX3/eBy8svqin0KY9LqROHh3em4sDlw5UoShZVCVt0DLl70vDh2bjPEP74+RfOTpYQeb2XtlyxlN00YOxNj9aTCj6Zj46P44vFstnbYKs9L9DNsGwll7fjbG0v0BewSBq0+Nx767NlrvtZxfjfkj+2L89KZnMsWAKp2B2YUFmz3XY5vbs/bd6TjYNrhTS9f2dK7Leiw9PFqcD2VJXYpbrTZ3I9jMpMGDRm6djaWqG34a+OjF1TL0qltmCqjags28ZWD2HptGrq8U4dXItW2DB708V9vFOIXFV733qq7wq10K3+oHFcp/WCgHwMn365aDB3WfJ/2kbdg8fxFqzvW8R2vann4juxfql90xeNDaUiycXYn16n3WV4t72ra1eN2wHqtnprJr1eEex2SwfbjpM56C4ZHsOLYPMrTNYDMtY7RtEKnV05PZ4ypsXoulZxdjpRUQZ9uRnk8DaPW7RQQAAACXNMHmMFXBZqvsi9Gb070PVzYHBG8W99AcvbKc98rROHRkI/xcf24mDqf7LGbP7fvwRJx6eTlm0+BAbUHV8pPjxetH9sfhx5ZipWzVOexgM1n79kyM37h/Y+CNa8di+uzm2GMotgo2s21feuxw7M+D3H1x8NhcLH97Oq4qtzN128/vUZmva3YMbpspB0JZi1OfPFC+LivZPh/L9luvrVh/cS7G8uWklmApXqkLrDrDufYwsfd6dOu/PfH8bBxq3Ws1DXoyEfN5qNR/e9rXJY1wfujRzm1df34mDo5MFcHPLgWbaR2XsvP0YNt5PvZoNUp63TKzpbYHm9m+Wfly6kKfvTZ1V96UcqVljMf8C4sx/dHi/CzuAVmzo1OA3DaC/SYpXGu7r2SHvPVpEZbm+/X++Vh8uDxm6fP3cLVNSc1+6SttQ/f8aRnlPusu+TFNr6kPEDvVLTs7H758KEaqcHx9KWaPHGydRyPvORBjD3fe0zYNvJO/dz6w0EwsbDoOpQH34ebPeNHifPzptoOz3WAzs5Z9borrZvE5OdUKX7PPWDoPq89j+vHptune2wEAAEAjCDbhHa8Mtza1sEv3UewXIL+z9Os+vR2dLWHfJqkla68AEQAAAC4Tgk14x1uLU3fti8Md3erXYvnxw7GvtrvxO1B+r9vRAVo4bu2SCDYBAAAAwSZcFt4suhvvu3I0Dly7P/bVdDd+Zyq7dF95MCaeHk77RsEmAAAAXBoEmwAAAABA4wg2AQAAAIDGEWwCAAAAAI0j2AQAAAAAGkewCQAAAAA0jmATAAAAAGgcwSYAAAAA0DiCTQAAAACgcQSbAAAAAEDjCDYBAAAAgMYRbAIAAAAAjSPYBAAAAAAaR7AJAAAAADSOYBMAAAAAaBzBJgAAAADQOIJNAAAAAKBxBJsAAAAAQOMINgEAAACAxhFsAgAAAACNI9gEAAAAABpHsAkAAAAANI5gEwAAAABoHMEmAAAAANA4gk0AAAAAoHEEmwAAAABA4wg2AQAAAIDGEWwCAAAAAI0j2AQAAAAAGkewCQAAAAA0jmATAAAAAGgcwSYAAAAA0DiCTQAAAACgcQSbAAAAAEDjCDYBAAAAgMYRbAIAAAAAjSPYBAAAAAAaR7DJZr9YjtPfXIn18iGXgsV48Ior4oorHsz+NVzr/+2+eNcVe+O6zy+VU3ZmWMsBAGi8S7k+/ZPFOHl2rXwAAM0m2Bym10/ETUMMnlb+4rp48Gz5YNesxBMf6lrn7z0Ye6/5QiyXD9/5VuPEH6fQMJU74uRPysmV5x6J9+XPZeWPT2Rzvx12O9i8It7/maULqnwPazkAAJessw+WdcaqvCve/8dH4wtnumqIl3B9evVrt8TeT5wO0SYA7wSCzWEaarC5Gidvv2L3g83Vk3HHLoRlzdIebF4RR5/prOYtfe59G5XXd2CwCQDAgFKw2V4ffGs9Vs4+EUev2Ru3fGWlnAgAXCyCzWHqDjZTxedTZ2LlmXviht/bG1dcsTfe/ZF74vTL5fOZjeeuiCt+5/1xx+dTa7fleOKPr4t3770i3nXNdXHdh66Le57Jqk9peX+2GOvPfSFuyV9TvNfqV27Kp3fornTFWix+9o54/+8UAd27rrkvznznibjpQ++OvemX5uw9rvtQtm7pBX1fm23DLY/EYnurxh1v56WiDDZvuiluyvb5FfeeaVu3pXjk97Npaf+0gs21PHRO29Iegq5/855i+24/ufkX8J8sxiO3vz9v0Vjs/zviwdNF5Tc/fml62zHcPK0KNu+Lk998MG7Ij8W74oZ7T8dGFbqY532fW4zlr2T7u5zn/X/yRCyvrcTpe28o3n/vu+OW9v2fjl/He3WeK/nx+rPsfd7KnuqzHZuXk/nFcpzI3jedy9V5ceKFtiOfv+Z98ch/K+ZrXz+tCACAS86menLp5fQ94IZ44qXycdd8/erC6y+ciHs+kurkRT3opi8V7Ty3ruOvx9LnN+pse3/vhjj69bJe9oul+EKrzpbqYEfjZFk337Tcjvpaql+eiOVflM9l0vw3/dVy23tl9cvbvxBLrXn6rAcA7DLB5jDVBZt73xV3/MVyK6RZ+VJWkfiTsuvHS0/EDb9/X5ypnlxfi5XVqopThG0dLTbT8m64IW66/USstGVDW1d6UqvD98fe/7jxuvXVtaIyVdfKtOa17//T07Gagq3M2pkH4/3Zei9WlZkL2s5LQRls/v4j8cifpQrnPXGmWr2yG/o9f/FEtp+yecr9svbM0bzi1trGbG+e+dOisnrH16sNrazF6T9JFb29ccP/nr3HZ++Lozdk+6ucb3OIWTetCjaz8jtZZfHeo2VweUXc8BdVxbF7njviuryCmlUw9+7NKpm3xNE/KcPDbF1a51Y6fmla+V7Vtu39yD3Zuj4S96XX5GFt/+3oXk52FsQTNxTvnwLQO6rK9d6bOiv9aVp6v2z97rn3ptb6HT3dvR8BAN5mXfXkDVld8N4r4qa/avvBt5qvX134J6fj6N73x4PVk9lz2fez3FZ1/PUz98XeP36i+PE5+cVKrOaND4p66U1f2ggX119OP80XOpeb6nfvilta9fj1WPmrW7LlZt8b8sfl/Huvi/vyFhDJWpz51PvifZ8r7qveez0AYPcJNoepNtjsCg3b58kqOde1V3I69Ag2rzgap9t+QU22qvRktY24b+9NceL1/JlOWwWbta8tKm6t1ooXtJ2Xgqor+oNxJm91uTfuK5PNohv6PXHmpbQ92Twd+yW9pgpBF+PBjsftquXvbas0btgcYtZNq0LL6+ILL5STqnt//v4jUVQrq3neF488l0+Ita/fUSxnb7b/y/Va/FSaJ6t4f6WsnObnVTatfK/qvff+x9TSM59U6r8d3ctJj/OWBzdkFd1iysay2+bJX9PahsjvLZvP8xmDEAEAl5hUd6nqg13yemN7Haear09deOVLN2zUi7psVcfPewu1B4otZcjaFmy261huCl276/H5Pfg36pP5/N3bPNB6AMDuE2wOU12w2V0J6JhnPZa/dEe8+3feHbf82YlYfL09EesRbHYvL7NVpac2vKxsFWz2eG3He17Qdl4KNoLNxfUzcU8reCu7oaeu6fn2ZP9u287FvHXnFXHPN7PtKUPGvX/a3o19w+rX7yhbImbld26Ie76yEQzm+zJNbzuGm6dVoWX7sViM+zqmVfPctzFPOjZpWtt6V8vuFWzG6yfjjqobetUdqVzZftvRvZy67cpvpJ+mVetTveZTG/PUvg4A4FJQV+8t9Qw2+9SFF/+srU7WJa8TddeHOpa7Fmf+7IZ4V+qp8/nTsdzeSvInZ+LBG94V77rhaHzhdFZfawsdO5bbY3va1+uC1gMAdplgc5i6Q8C6ikJdULi+GotfeTBu+p29cUPrfjsXGGz+t/s25u0RTubqnmt/nx6v3bJCNPB2Xgrags2sYpZ3t06/XL/wRH5fzTy4zLenLZBL2sLMxbxl58Yv23XWXz8TX2h1Bd8YPTzfl2la2zFc+avuaTXBZhnCbg422+ZJxyZNa1vv6v16BptJdqzOfH6ju/sV1zwYS+UB67Ud3cup266ewWbbPLWvAwC4FNTVe3NFHfKWr7XVr7rnq6kLbzvYbK/jV36yHKc/n25B9P442uouXlh74XR84c7rYu81R+N02QOrY7k9tmd7wWapz3oAwG4RbA5Td5hX9we/R1CY+0n7COUXFmzm3XmrefMAbIdd0bNnHuzRFb1vxW3g7bwUtAeb2Yciv8fk++KmP05dosuu5XXBZt5NJ5v2+3fEHTel/290p+7rn77QNhBR9u5fu6UI8j5xugx7NwYn2jiuVWi50RV9Pdvv9V3R2/ZtOjZpWtt6V8Fh32Cz8tZyfCFtY93507Udm5aTPe7ZFb1q2Vrz3tU8tesDAPB2SnWX7npvkrp0X3FHnKxaK/aaL2mrC6c6+3a6onfU8bulH917PLf02axuWxdUpjpubVf0vfHg94pHdevRd/v6rAcADJtgc5i6w7y6P/h9Ar+17z0SN1zzhSjGQSx+9W3dgDzpVYHIpu+9Jltmq2/z6bjvmr1t867H0mfeH+/7k5Mbgwf9ZDXW0r/XTsfRFFq1jWDe/T5p8KD33ds1eNDee+JM++BBO97OS0FnsNkKMVOpRkivpnVtZ7ovUj5fVq5rDeLTLVv+f3x33PAn9xWD8aRfzbP5936ibXClfBl747o774t7bilHxUylVYmsQsuspJE0b7+lHLmybvCgrnMwTWtb7yo47BVsrn4lW/ZHjsZ92bo+8qlyAKK9R+P02hbb0bWcVCk+8R+L7vqpG9Q9rVae799o2brpNRvrt6kCDQDwduuu966vxfLpR/JWmLd8ZYB6e6ajLvz6ybhl7w3xyNmyIv/Weqyslv/OltG/jt9p9WtH411VvazdW6tx8k/e1RqYsTOoTN859sZN/2d1e6Fy8KDuH6a762V9tq/negDALhBsDtN2g81/eiJuuuZdRYhzxd5490fuiZNtAeP6Syfijt9LwdDeuOPr2VJ6ViDWY+nzd8T7827D74r33/6FWPreE3Fdx7xrsfjZap40SvV9UdRtUuXljiIk23tHnEwv2PQ+a23Lz9bzlgfjTJ8gNLeN7Xz7dQWbrcdtAyT1CDaLX9zTvDdsjPS9Sbrv0E2tfX/F3hQOPhFLbYNArTxzT9ntO+3fR2LxuRNxS5q3VYksQsu9f3o6lr9ezfuuuOHPzrRVGocTbKbguvN4HY0nnstT8P7b0bWc3C+W48S9N5QhbHHsT7xQputJzWsEmwDAJauqu1Qlqw9dd/uDcfKfumK8NF9V/9qqzv/CibjnI+UP26l+9RfVz//96/hrp++L6/LvCm3P56uxFqf/9LrWj+D5j+KfX2rVGTcFlW+txMlWfS2rX3bVU7cKNnuvBwDsPsEmXIiqtWV34AkAAADArhJswg6sPvNgHP2TjZaI+QBDAAAAAFw0gk3Ygaq79N7fuyUePN3r3poAAAAA7BbBJgAAAADQOIJNAAAAAKBxBJsAAAAAQOMINgEAAACAxhFsAgAAAACNI9gEAAAAABpHsAkAAAAANI5gk8ve//1rH1Mu4QIAAABQR7DJZa8uTFMunQIAAABQR7DJZa8uTFMunQIAAABQR7A5RD/72c8URVEURVEURVGUrADAbhNsAgAAAACNI9gEAAAAABpHsAkAAAAANI5gEwAAAABoHMEmAAAAANA4gk0AAAAAoHEEmwAAAABA4wg2AQAAAIDGEWwCAAAAAI0j2AQAAAAAGkewCQAAAAA0jmATAAAAAGgcwSYAAAAA0DiCTQAAAACgcQSbAAAAAEDjCDYBAAAAgMYRbAIAAAAAjSPYBAAAAAAaR7AJAAAAADSOYBMAAAAAaBzB5hD9Tx9bUpS3tQAAAABcLgSbQ1QXNCnKxSwAAAAAlwvB5hDVBU2KcjELAAAAwOVCsDlEdUGTolzMAgAAAHC5EGwOUV3QpCgXswAAAABcLgSbQ1QXNCnKxSwAAAAAlwvB5hDVBU2KcjELAAAAwOVCsDlEdUGTolzMAgAAAHC5EGwOUV3QpCgXswAAAABcLgSbQ1QXNCnKxSwAAAAAlwvB5hDVBU2KcjELAAAAwOVCsDlEdUHT8Mo/xwe/8HLc8vjLccOn655XFMEmAAAAcPkQbA5RXdA0vPKTWC7fZ2359ZrnFUWwCQAAAFw+BJtDVBc0Da9cSLC58dpKk8PR2Tcilr9d/9zlXgAAAAAuF4LNIaoLmoZXdhpsFq97J7XyHFqweeLNWIv1mK17bouS1uFS3KcAAAAAlwvB5hDVBU0XUm75zv831tf/f63S8puNaes/+x9xT81rq3KxArjZN3YWEO6kaLHZuwAAAABcLgSbQ1QXNF1IuWf5rXLJ/fQLFF+PhV++FQsn6p7LSmqx+MZPWu/TCkC/vZ4/LrQtP2/huKGaPwWNG6r503uXkzK9wtXubcwDy/Q+v3yzLbDt3I482Hyjfh3T8pa/3d71Pj3X/rhtf3S8T1d3/Wp6x77o3OaNcLVzW1uvzUq+Psud+203Q1kAAACAy4Vgc4jqgqYLKR/8xi9ibYsWm2uv/yTuqHltUVJYt0WwmS2uI3TsDhU3hYxVSctuDzHbAtCsdLeqrG9lmS2jbtkDBJvxxk825k/hYzl/EZR2Bp2bHlevbXufIhAtl9cqm7erKu3bk/7dvg/b16/7/dvXtZp/mAUAAADgciHYHKK6oGl4ZaNFYa/Wj5tLZyC4qdSElkUQ160M5tL85ZRCFdh1B4BdrR9Ldeudh4CZjlBxgGCzM4TcCFnT+ne8TwoSu0PQmmCztW099kf3um+sQ3vAW5a25W5an15h7pAKAAAAwOVCsDlEdUHT8MpOgs3NrQk7yqYAsS6Iq0p6//aQtD3Qqws2u8K+LUpHwPl2BJtVGTDgFGwCAAAAvL0Em0NUFzQNr6QArbD2T6/VPN+jlEFdZxDY9lxtsFfTyjOf3hbgpYCwI9jsfE0eVLYHioOUbJl5CNj9Xl3rlC+7bb3z0LFXkLjdYDMv3UFtWdL85Wvbw9X07/b3bN92wSYAAADA7hBsDlFd0DTM8vufezlueXwlPnhv/fM9Sx4MtitDwl7BXh5atmkL6VreeLMj/Nt4rj3sLCflasLStrC2sLG8PBysZOu48EZ7sJn9e7l9HTvXYyfBZse2ZYpl9N6G9mBz03xt+1SwCQAAALA7BJtDVBc0KcrFLAAAAACXC8HmENUFTYpyMQsAAADA5UKwOUR1QZOiXMwCAAAAcLkQbA5RXdCkKBezAAAAAFwuBJtDVBc0KcrFLAAAAACXC8HmENUFTYpyMQsAAADA5UKwOUR1QZOiXMwCAAAAcLkQbA5RXdCkKBezAAAAAFwuBJtDVBc0KcrFLAAAAACXC8HmENUFTYpyMQsAAADA5UKwOUR1QZOiXMwCAAAAcLkQbA5RXdCkKBezAAAAAFwuBJtDVBc0KcrFLAAAAACXC8HmENUFTYpyMQsAAADA5UKwCQAAAAA0jmATAAAAAGgcwSYAAAAA0DiCTQAAAACgcQSbAAAAAEDjCDYBAAAAgMYRbAIAAAAAjSPYBAAAAAAaR7AJAAAAADSOYBMAAAAAaBzBJgAAAADQOIJNAAAAAKBxBJsAAAAAQOMINgEAAACAxhFscul4bS4O7dkTe44vlhPeLmuxcnYpVs+XD3fT2kosPrdaPgAAAABgUILNYXlxNg7u2RMjR07FWjmpztrT4zGSzXfw8ZVySnOsv3wqZo4citEr98SeFEDuGYn91x6IsWOzceqFfls9oEsk2Fx/diLfvpGHlsopu2U9Fo4V+3Hqu+UkAAAAAAYi2ByaFFKNxJ49ozH9XDlpk6WYvnpP7HnvVCyul5MaYuXp8RjNw8x9MXrbREw/PB3Tx8biwLX786B25JML2R64QJdKi83nZ+LAyL4YO7n7LSmXv3ggRq4ci/nXygkAAAAADESwOUxVMHfbfG2rzbWTY3lLwEMnGtb1eH0hJkdSIDsRp86V09qtr8bKa0NIai+ZrugAAAAAXOoEm0O1HovHr4o9e66KqbNdQd/6Yky9d0/suXo6druD89B9dypvlXlgt7vPCzYBAAAAGJBgc9jOnYrx1Lrx5rlob5e5euJQfi/FiWd7tGxcXei8f+WVo3HoyEws1DXuLAPAni0/ewSEi8ezadfPRh5PZu83/dGiG/mePWMxX9cSs7KDYDN/rz1T0SuiLJ4/FHPtXbDb1/vcUswe29gfI+85GOOPLdQM6LMaczdn8xxLXeHXY/nkVIxdva+1D8eOn4qV6jVpm28bjX35Nqf7g47F9JmafXh2Kn/9pv17fjUWHhuPQ9Xys7Lv6vIeoy93Hte15+dj6rYDsT+dC2nekf1x4ObxmD6x1NGat3Y/VNaWY/74WBx4T7rFQbmM26Zi/vm69sDlfsjv8brWuR/S7QNunojZ79bfB3X1zEyM31ztl6xk++3Abdn8p1cu/PYCAAAAALtEsLkLlh4djRScTZ4pY6GqK/eHy1Cxy9qzk8X9K688GOP3Txf3r7x/LA6k14wc2Nz680KCzRQ2vjwXh7Nl77t6LCay95o8Mtu/FWm2/hNpeVdnr32znLaFCwo2bz6crd9I7P9oeS/PrEyUIezItdOx1LE7ykDvD2di7qHRGHnP4XybOl5z63wsn53K9vG+OHhksty/43EwD01HYvzprsCvNthciblbU8C4Lw4dK49RViaPHMzDy7GTG8tYz98rretYTJbzTT88UQSN7+1ssdsr2Fx/YTY/RinMPNx6v4k4lK/zvhh7qvtMKvfD9dMxezw7/+rOpT2jm86llROH83207+aNfZ3vmxSm9rilAgAAAMClQLC5G95ciIkUJJVB5srjB6O2e3ry2nwRYNWFhmuLMZUGGxoZ77y35QUFm6MxevVIHP7y4K0vkyoA23PloZg+vRxrm1pOdrqgYHNP/fpV6zD6aHs0WAZ62fSRW+e6guP1WLw/3RpgJEZGNod68XIVpHa2rq0NNstWq+0BZr3VmL81W2ZXgNnStd9q98P6UnncD8fcy+W0yvkqYO0epGpjP+y5OTvvuo9P7bZm75POvV4B5hbHGAAAAODtJNjcJStPpjBzJCaemi9Czh7h0crjB7L5ruo5kvr6mck8UDv4ZFtkd0HB5p4Yybttb9/KyYmy5V9WUkvC43Ox2GPQoAsKNkd6vW4lZq/Pnu8IDatAr8c+LEPK+v1fvbbr/XYz2OxStx/Wn53I37/ne704Gwez5ztHoq+2ZSSmzpaTOpTr1bGtWwSbAAAAAJcwweZuqQYLSqHaptZ1lSpsmuwZALa6gd86n81duqBgs1fwNaDza7F8eibGP1zdv3EkDtw9v6mF4AUFm/l9Iuttfl0V6E3EQl3GWoaUve4PWruedcFm1YoydUV/+FQs97kn6epTRcvSkWsnYvbsat8QuW4/LD2UWmRm07pba7aUAe/IVE3AOx6neuy8zdu6nr1Xum1C6oo+HadeEG8CAAAAzSHY3EVrJ8fy0Kh3C8mlmE7hZ9/WfYsxlS2jowvxBQWbXWHiBVh/bSGmby4CzpGuMLI2MGxTuy491rvdypeLQZimvltOaAV6Pd6rLqRsU7uevV6zthxzdx/IQ8u0Dvs/OhVzZ+uXu3pmurwfZlbS/S4fOxUrNbnh5v2wFqeOpGm9A8r6bd5iP2Tqj8laLJ/YaImb7lE6dWKxZpAmAAAAgEuLYHM3bRGqNT3YLKyUgdrBmH2xnJSpD9E21K7LIMFm3nX/bQo2K+eW49Rj1eBDe2Lkxuz41Q6qtB6rZ+diqjX6/GiMP93ZcnTzfrjYwWapuyXuyMGYfq5fW1MAAACAt5dgczdtGWzuUlf056bjqvSaixJsZltxIrWi3NPRxb1viNYK73oEm/26ot/f/bq3IdhsSa0dx4sR0O/qvc651YWYurEY9Gfm+XJapu6YXFhX9B0Gm23Wnp+L8WrQqr4bBQAAAPD2EWzupgECsmqQockz9a3j+g0eNPJQfTvPKmi8WMFm3QBIxXsdjvnaTV8sBq3pFWz2HDyoroXr2xlsJlVIu3VgWAXO7cutOya1x7xd38GDeq/HoMFmsvb0eL4PLuh+rAAAAAC7SLC5mwYJyM6divEU8l09FYvd3ZnXFosBa1LLuY7Baspg8L2TNa9ZiMlq0KIhBZvr51ZjrVev5Jfn4nC+/p3d6atw9dCXN4dzK0+WwWuvYDO9ribUWzlRDMpzsGMgoLc72FyOmdR68vrZ6BFDtqyfLsLCiWc3dmb9MVmK6fy4H97cavP8SszdWrT87ByQarjB5vIXU1h9oOP2AgAAAACXEsHmbhowIFvP5ssHb0mDzNw/HdMPZ+X+6h6OozF1dnOqWIV8e648FBNp/lSOHY79IyNx4KGpGE/PDSnYrELKfVcfiLFj5Xs9PBnjN5b3jhw5HLMvdK3jm2Uom0ZN//jkxmvSPRyvHI+p+1NwVh9sHjo+lYel+z48HpPltk2U96kcuXWuK0C8SMHm2ekYvX4s39czJ07Fwpn5mH14Ig6/pwgZN47Rasx//EAcOpK2eTbmzyzEqRMzMXnkYOyrWf+ex+Tl+RhLx39kfxxu7fPq/Ubi8InuGHUnweZiTFfH9LG5OJWt6/yTG/t6NDt/euXZAAAAAG83weZu2k7Lv9WFmDlyKEZbI2mPxqEjM7HQ86XrsXxyKsaurQamGYn9N47HzJn0grLL9rBabL62ELPHxuJA673K97v2UM/RvnPnFjdt09jx+VjO5i+6OtcFm2WX9nNL2XtuvHbkPWlk8YWa0bovUrBZbsuBq8vBdcrtOXRkOuafb98B67HydHZcrj8Q+1NYnc+b9tVYTDy5ef37HpO15Zg/nu33PMzM5hvZHwdum+p6v8pOgs21WHxsPA5dP5qHrsW67ovRm8dj+uRy/3uGAgAAALzNBJsAAAAAQOMINgEAAACAxhFsAgAAAACNI9gEAAAAABpHsAkAAAAANI5gEwAAAABoHMEmAAAAANA4gk0AAAAAoHEEmwAAAABA4wg2AQAAAIDGEWwCAAAAAI0j2AQAAAAAGkewCQAAAAA0jmATAAAAAGgcwSYAAAAA0DiCTQAAAACgcQSbAAAAAEDjCDYBAAAAgMYRbAIAAAAAjSPYBAAAAAAaR7AJAAAAADSOYBMAAAAAaBzBJgAAAADQOIJNAAAAAKBxBJsAAAAAQOMINgEAAACAxhFsAgAAAACNI9gEAAAAABpHsAkAAHApOzsVe/bsiT03z8VqOQkAEGwO12tzcShVOFplJPZfOxZTJ5ZirZxlO5afno7pp1fKRwAANMtaLD42HgffM1LUDa8cjbFjs7HwWvk0b58e9fbpM5dobNgRbK7FyumZGL95NPZV637jRMy9sF7ODACXD8HmMFUVpJH9ceD6A3nZP1JUlkZunY2V7dQ11hdiMr32+GI5AQCAJll6dLQIo64cLeqGecA5FvPnyhl4+3TX26/dHyNlSDh55hIMCLuCzfnbyvPqtomYuK0MOEcmY0G2CcBlRrA5TFUFqb2LyJvLMXNzqiTtiYNPVq0v12Pl6akYa6tAdfzKem4xpm/eV1ReqtK2zLXn52LixvK16Zf/hxdi9Xz5JAAAl4DVmMvrgAdi9sVyUmb93FpWEyydX42Fh8di9MqivjfynoMx/tRGb521b0/H2NVlnTCv8y229QJajKls+lWPLsX6czNxOIWmbfXF1TMbr03LnTixvKMeRO9YNfX25S8eKPZ11bAgq5PPHDnUOj6bj8FaLLYdv/z546diJa+X93suPb0cc8cOlo0g9sXobdOx0N5YNH0f+GhR39/34ex7wlPTcSAtp1rf9fWN86h1rh2O+fZlAMBlQLA5THXBZnJ2qggh3zsdS+WktZNjWSVlPCYfno7puw92Pv/iqZg+crCoBGXzTKd5niwrUS/OxsE0/cpDMXViLmY+fiB/7cgnF9oqNwAAvL1WY/7WrM62ZyQOP74Ua5t+hF6LU0eKLup5oHlkLA68Z1+rteD6sxNF/XBkfxy8bazVnX1fq85XBJt7rj4QB8oeQlUdtHrtyLVjMZPVF6fKH8w3fmSnX7A58lBVY1+K6av3x+FjWV384ckYu7rYz2Mni2hz7enxYv4bJ/L6+mRWf99323xeZ+/3XMRKzH44LWtfHDo+F3OPZcc+HcNWi8sqqEznxuHs3KgC0Kx0f8/Ilrj8ZPa9Intu9Pii7wMAXHYEm8PUK9ispu+ZyqqgdVZi7g/T84dirrrnUtXdpKsr+uLxolI78WxVbckqRten107oegIAcAlJLSkPVoHUlQdj4sm2+65X9cORrA73ZjmtpQq22rpFry/G1HvTtKq+WAabeXDa3hqzpqXo+kJMpHmvn81qjuRa+7/sil61jN0zGtPPlfN0+/ZkMU9ZP189cSh/nG45tbxxAHL9nms1eji20TBh5fEiVM3r+C/OFq0z286N9dNFUNr5PSP7DnFr9t1g5EBMnu6MOwHgciHYHKZtBJurZ9INvzfuwVmUrYLNjV9vN5e21wIAcGlYW47544fKQV72xMi107GU0qyOeyZ2q0LL9vpd1QJ0T0ydTY+rebp/3K6m15VeP7Jfhlr186rsi9GbJ2Lu+bYUMj92Y22hZ1mq+vlr8zFWdTXPXn/w2NxGiNnnuSr0rCuHTmRnQ3VuHDm1OQhvP1+em46rsmkHHhdXA3D5EmwOU49gM3UHyisn5a/k62cmi19prx6P2TPLsZpVmmYHarFZBZv7Y+LJhVg4016WYrWjUgsAwCUj3TMx7368J8afXhtisNkdVm68dvp0d33RfTZbejVIaKm6i4/EwYfmY+nltVg73dliM7e+Ggtp5PsqxLx6qgiu+zxXBZv7757tOj4LsfRaNsOgwSYAINgcqroKx1pWuSzvx1Pd16iqzIx+cTl/nN+/p6NrUaaq0LR1UUmqruiHvuyXWQCAS9dqLJ1d7ajHLT18VVGPS63yarobJ+v5C/p1RT9YdjHvFWxWr70qJr/d/u502DIorPbveJwqj0+6R35eP+9oeFA6vxwz+e2hanpRdT+X1fPzRg7Ze9fW6Ktzo+3+/K17rnas73qsPqdxAwCXN8HmMFUVpOpePdePtrodpZuFVxWX6mbie64eywcPmrh5f4zkXdLbKkLVIEHppuLHJmP85pmiYvPyXBzO503T043My5uR11WwAAB4m5TBWFUvvLYY4XrPyOGYz+t7qQVm1+BBV2f1uxR6ZtbPTsVo+frDxyaKUc/TvK1WfL2CzfbXHoix+4v64sRHs+WUyyazZbBZNTwYiYN3Z/vw/uz4XDlSHMOy3r164nDsv7EcDDQ9n+roI+NxKjtA/Z5r3RszW9a+m4vBhabvTy07q2NZtRZNty7Ivi8cy5ZVvXfb+ra+U9w632MbAOCdT7A5TFUFqVXSvXrGY+b0Sle3n5U4dexgEXqmyupjS7GWd1dv/4V3PZYeyyoxeYg5klWMZqNq37n+wnxM3dYWml59KMaf0oITAODSsRoL6f6MZSCZ1wtvm4r5F9qa1725HHNZnbCo76U63VjMPLfx/Nq3p2Osur/jlaMx9vBiW52yd7CZrH17JsZvLMPUVJe8diymz3bWSC9rWwabWZ37uZlWoLzvwxNx6uXlYtDOMthcOzMVh1r330z19fGYLY9fv+dy2bFP9+8crbqpZ8f30JGNhhBxbiGmyuNXvHcZtLavb7Z+KTDdd7/R0AG4fAk2AQAAAIDGEWwCAAAAAI0j2AQAAAAAGkewCQAAAAA0jmATAAAAAGgcwSYAAAAA0DiCTQAAAACgcQSbAAAAAEDjCDYBAAAAgMYRbAIAAAAAjSPYBAAAAAAaR7AJAAAAADSOYBMAAAAAaBzBJgAAAADQOIJNAAAAAKBxBJtD9C//8i+KoiiKoiiKoihKVgBgtwk2AQAAAIDGEWwCAAAAAI0j2AQAAAAAGkewCQAAAAA0jmATAAAAAGgcwSYAAAAA0DiCTQAAAACgcQSbAAAAAEDjCDYBAAAAgMYRbAIAAAAAjSPYBAAAAAAaR7AJAAAAADSOYBMAAAAAaBzBJgAAAADQOIJNAAAAAKBxBJuU1mP59JlYWS8erX7lprjizxaLBwAAAABwiRFsNtJ6nLn3injfZ5fKx8OwFA/ufX984Z+KR32DzddPxE1XXBFXtJc/PhGr5dN9vbUaZz57R7z/d4rXveuGo/HEc2WaWlp/7gtxxzXvKp+/J0680Pb8AK9P1l94Iu7I5nnwbDmhr7U486nrYm/tNqzE6XtviHfvzd5v77vjls8uZnP3tvhn5f5oK611SOv++aNxU7ltV/zO++OOPzuTvcNW+hzvsw/my+p5LmTP703vta2QeottvpDjDwDsyNqzk3Fg5FDMvVZO2GQxpkbGYv5c+TCz/sJsjF25J6YGqg8xuJWY/fBITDzbXQddjbmbR2L86X61RQBgmASbQ7bylaNx9Cv9o6pB5unrJyfjjg/dEDf8zn1xZnOmNxR9g83vPRh7/+PJHQVZ6998MO75ylKsvVU8XvveI3HD3qNxuqr//eR0HP2dW+LES8WGrf3TE3HL72TP/yR/uPXrM2vfvC+u+2C2j/94gGDzF8vxxO3vjhs+cTSuqwnnlj73/nj/n50p3u+t1Tj9p9njz/UKlFfj5H/cGw9+r3zY7eWT8eBnz8TKL8rHb63EiWz+939+uZzQQ7/jnYLN2++IO/bWnQvrceZP3xU33HDdtoLNLbf5Ao4/ALBd67H85Fjsv3E8xq/vHWyun5mMkSOnWj9G5kHotdlrbhZs7ob1s1Nx1YdnO36gzo9B1zQAYHcJNodo5Su3FK3jrtgbt/xVfZVm5a/a5tlhuLnypRvifZ9bjDN/ujeOPtP5i3AKJG/6q+VY+vwtPVrcrcaJP74pTrxctMp7V7YuN30lRVSL8eAV2fTXy7n6BZspTNtWC8B+0vpsBJDpfbtbHy7+2d5yHet0vj7Wl+KROx+JpWyDU+vJrYLN1a/dE/d8PTsOqRXipmAz2yd774iTZaiaS/PtfTB7JlmJJ264oi2YLPdtuQ8H0Xc/l/od7/xY/PET8cS9V8Q93+xKNlMg+vuPxMm/2s5tBbba5sxQjz8A0Ndr8zFx93ysnE+tAXsFm+uxcGwkJqtfObP60PTHp4v60HHB5u7obp2ZWnFele3rtvrYm8sxd+xg7NuzJ/aM7I/DD7fVyd9cipnbRovn9ozkwfX8y+VzAMDABJtDtPK1O/KgsOieuznc3Ag1U3lX3PG1nQSbS/HI798QT7yUfhW+L/befrKjm3AelF3x/njwTDm1ahXYanGXwrf3xQ0fuWljntzgwebaM0eHGGxtbE+y+KkrasPa3u/X+fp2gwSbLXXB5svZtN9/JHuHdu37aS1O33tdHP169aq0LoMHm+svn477PnhdPPK9TU0t2/Q/3kWweSJWap5b+/odcd1frAwUnrZsuc3DPv4AwGD6BJvn5mNsZDIWaqoUgs1d9Nx0jL53Oq83rT09HvvaWsymeuKpI/vi8JfL+v751Th17KoYfTTNvR4LnxyJQ09ufBdYf3m1s44HAAxEsDlkvcLN4YSameceiffd8ETZxWVzqJeHWN0B3UtPxHWtsKpo4Xjd/9nd/XnwYHP1a9m2/M67Wi1P3/2Ro/HE93ZWFUvLetefnC4rcl2tLytleFfXZrPz9Z0uONisfd8e65hL9yl9V7yrvP9ncQ/N07FSdpsvpP1cnQe3xCNn67aqzRbHe2Mdu59LrUmLx9sKNgfY5mEefwBgUL2DzbWTY3HVw50/S1YEm7upaCl76MunYvrqgzH7Yjk5eW0uDl3f1S39u1Mxkk9Lr9vTEWwCADsj2NwF3eHmDX98w3BCzawSlLojt3fLXvrs+zq6bteGWOtn4p4rbomT+ct6BXODB5vJeluLgLXnnohb9nYFbgNYP/tgXPfBB2Oxuudkr3XrEWxufn2nix9sZtp3zHpxf8q9f3omO3Kbrf9kKU78yfvi/Z9Zqn0+m2PL492+jkufe1/c8KXy3EqBaNmCc9jBZjKM4w8AbEevYLPoAj39XPmwi2Bzl6UAc8+euOr4Ymd97uxU7Mm7mXeXqazWnTm3EFMf3hf7PjweM6eXY+18/ioAYJsEm7ukM9wcRqiZSfdM3LTMrLTd//BiBZvdUhfy3vfB3Gz9uUfihg8ejdNd9xJKYWRtV/RPda5Lr9e3u+BgM03r1S170Hsgpa7dV7Tdn7Jbej47frVtLAY43h1B5EtPxA3l+qYAtNqPvY9le+vR8vjtcJu3e/wBgO3qEWy+OBsHu1sGthFs7rZ0XGr2cQo2b57rrFvWWHvhVMx8/ECMXD0ep2rvnwoA9CPY3EWd4eYFhpqZNIjM5tZ/qcvx3rivvFl8HmLddKKzcpta73V1RR9usLkeZ+69Im752mDBVhFK3hdn2geoKaX33WrwoH6vb3fBwWbaJ1sNpLOVdBuAXsFl0uf5QY53ZwvLdGz3xoPfPBP3tY2gvr1juZNt3t7xBwB2oj7YXHr0qjjYp0uzYHO39Qg2U+C8Z6L2vqd1lh6+Kg6dUJcCgO0SbO6yIty88FCzCLTeF4/UdDNKg8Rc0d7teMvBgy4k2FyLpW8uxkqr+/d6rJ6+L96/92icLsOwfHCZ1n0hOxWh5IOx2Nkoc8NPTsfR37klTrxU1ALX/umJuOV3Npa95evbXHiwmbp3vz/e/2dnYi3dJ/Otomv5xr7sGjzopcU4/cLaRhD5k6V4om3fr2XPL73cVrvter7TYMe7u+t4em7v3r1b356gj622eavjDwDshrpgcymm3zsW8+fKhzUEm7utR7CZ1ZlOHRmJ0U+eitWq+vfmaiy/XFOJPb8a80f2xfjpASq4AEAHweZFsP6LAX+q7Se1uuwRFqau5veV9zjMQ6xPnYzFz94S796bui2/O2757GIRguUuNNhcj6UvHY0bfm9v0RI1W/51tz8SZ9oSwdTC8o6v11XMiveuuj53lLZwbv2FE3HPDe/Kp7/rmjviC89V+2+w11eGEWymSmn7vrzh3tNtx2AlTty0N97/+XIgptfPxIO3v7/VSvdd19wU93xlubXv184+End88N2t+612P99hwOO96Z6Y+XOdgeh2g83+27z18QcAdkNNsHl2KkZum6+vS5QEm7utV7CZOb8Sp44fjv0jxf01R95zMMafSrWqtTj1yQOt6XuuHI2xx5b6HkcAoJ5g8x1m+yHWsC3FI9dsdIMGAAAAgN0g2HyHefuDTQAAAADYfYLNdxjBJgAAAACXA8EmAAAAANA4gk0AAAAAoHEEmwAAAABA4wg2AQAAAIDGEWwCAAAAAI0j2AQAAAAAGkewCQAAAAA0jmATAAAAAGgcwSYAAAAA0DiCTQAAAACgcQSbAAAAAEDjCDYBAAAAgMYRbF5C/uVf/kVRFEVRFEVRFOUdUQBgtwk2AQAAAIDGEWwCAAAAAI0j2AQAAAAAGkewCQAAAAA0jmATAAAAAGgcwSYAAAAA0DiCTQAAAACgcQSbAAAAAEDjCDYBAAAAgMYRbAIAAAAAjSPYBAAAAAAaR7AJAAAAADSOYBMAAAAAaBzBJgAAAADQOIJNAAAAAKBxBJtcen5yNr7xjz8vH7yDDXs73wn77R9n4vbJZ+KN8iEAcPl4/Suvxb/5zE/KR+9U/yP+/MgrMbFYPgQALohgs8F++eJX49N33h4z/1hO6OPnLzwTnzt2Z9x+++1x+x13xuQX/z7e+E355FbeeCYm0+uOfyNqY7Pq+SEFUuf+9tNx+8ML9e91CfnHL2bbnLa7LHfe/emYefal+GX5/FaGvZ27td8udDu3ZajB5kvx1YmZGODjAQCXvHPfnom775iMZ3r9kfzNP8bMHZ+Ob/ysfJzZTl3x4vhV/PevvB5X/dEr8W/+ICsfeSV+9+434ky5zoLNt9cPZl/dlfX61Tdfj2u+8j/KRwAwXILNhsort3d/Nj47OUBl9TcvxVenH4+zr58vHp8/F9946PY4+lcvFY+3koLL//zp+PTRe+Orr5bT2rzy1L1x77F7L7uWdinwm3y62uLz8fN/fiY++4nb48H/2vBWk10u6nYOM9j80TPx6dsFmwA03S/jpac+HXf+58/GgxO9g83zi5+L2x/a+IFzW3XFi+Snp16P3zr8r/G3P1ovJvzizfjv3/ppvF48Emy+nd56M758926s16/j7COvCDYB2DWCzSZa/358aepL8f2s5ppCpx1VVjsCpFfiq8f6BJ15i8yZ+OpX7o67v9I1z2+ydTn66fjGs52B1PlXF2Lm+NG4M2/ld2fc/egz8VLZxO/n//XBbN6TGy1Gf/NGnMwq3Z/7djHDG09Pxu1frDbqH2Pm9s/FN/7hr2PySNlicOJz8cwLb8T3/+rTcfTOtuWXdeTiNd0V/zfimbaKfXqPu+f+PhYevbtYx9SK9Ymz8cbL39ho2XpkMr7Up2t3Z+BXeOPr97at+8/j+195MO4t1ztf3j+cK5+r286Z+Mdffj/++v7i/WdOfzXuPvqlWC7nSMv7xvFsOY/+fZQRdXYu/H187vYHYyFbzc7l/bJt/6T3vjc+++wr5XOpBccz8bmJtu1sW69uW25nOpeyf//y+9Ux2ggTz/3Dl+LTn+j9Pj9/ru243v+lOPutL8XRtvOoc5tK3eHnL1+KZx69N+68o1xOdm699MLJmMy37844OpGdtxOfjYUflfMDQJNk9bDPTn8jXjmf6jK9gs3z8fePZnWpxbKGMIy64i4485n+AVcebD54Ls5+8bX4v32kaNX523e/EWd/Uc6Q/OJn8ecPbDx/1QM/iv9ePp9aBv6be38cPy0eRrz107jvP7wSvzu7Vk7IvLAav/sfsmWWDzecj59+61/jg4dfjd/92KtxRdWi9GOvx9fSPl/81zx0/dX33ogP5i1O/zXOpJf9+ufxtc+8Fr99qFifK7L5//yff5WeKWTPf/mBcnmHXo2PfeVc/Pm9nQHir/75R/GxjxWv/60/ei3u+9ab5TPFPkn77AfPvB5Xpfc48qNWENyhz35JakPjtE358n4Wjx55NX/tFeX2f+yZtA4/iYlsO//2hz9urV/39vVf7pvxtw8W++a3/qhY7u9+sXV0AGAoBJsNt9PK6s+f/XTc/tjZMiD7eR7wPfhfamvKeYU6BZv/+OpX496jWSW5vQv7978UR1PQ1h02/eylWK5aiP7m53lleyMcy97voTvj039bPH7j6U/Hndkyqq7NmwO/2+P2B05mFfr0+Hy88jfZ83fcHp+eW46fp3U5/0qcfKB9+YMFm7fffjRm/qEMLn9+NmaOZu/zic/Fwo/KvfIPM3H0jmy7e3TZrwv8XvrK3XH7X3y/fHQ+3njhpfh5uRvOv/jXcW/b8jZv571x7+Sn4+TL5QtiOb509N44WdVef74QD05k89zZtk5t+719eXmrjclqn2WPf/lKvFHVOX+WLefO7H1eLZ48/6OF+NzRo/Glf84fbrLldqZ1OHZvTB7P3q8VLmf+OTs3sv359+X+PP+zbB9/Iu3z8kin8+qOjfXIj8Hd2THYVrCZzqXb4+gXzxb7+Tfn49xPymNanbfFIwBouD7B5s++EZ++43Nxtv3vcOlSCjZ/+szr8W+OvNERuLXLQ7KPvBpHvlEGe2/9Iv72wVfi336+6l//Znzt3lfig7M/i5++lT18az1+8NevxW8d+VH8ID3+2Y/jj//g9TiT/p0svRH/duzVuKotDEzv8Vt1rULTaz/yenztZ2W95Gfn4mP54+JhHtaNvRbX3J2913o5T+7N+O9L/yN+lb/n+fjpN17P16d4v/U8zP3tz5wr1jd+na3v63HFR9qCzZ9k73votfjzH/66ePxG9r7/4dW4b6l4j7S+//bj2fumZZSzbLbFfsn0DyCTupakKdh8JX7rE9U2F+Hvb6f9Ui5q6+VuHWgDwIUQbDbcjiqr69+Pxz/RO8japBUQFS0GW60BssrN2cfuLB53B5tdNgVUZbj2zD8+E5++83Px9203bNwc+HVt4+sn497bs9e0Vd43v2aAYLNrfc/O3N7VIrVuORs6Ar8UqP3zV7MvFUfj8efaK7vtOpdXt52f/Vbbjsj2bwqEqy7f57/9ubj9LxZi4aGNY5cCxmqd25eXz9sWbLZL83W3vP3+X3Rv+4YttzMd+9s/23EMi3NjcyCar1fZTS4PR9vPiUzRmncbwWYK23uFz4JNAN5Regeb6Qfro09UP6x2upSCzdTd+W8ffDV+6yOvxAc/86M40/GLaBmStQViufaQ7IercdVH/nUjuMytxaMfeyXuW+r+d3HPyA8+dS7u+w9VQLkef/vAK/Gxb9YkwF1h3KagLz3/B9lyeoSyLa/9KK6pWnOun4uP/cFr8eev5c+Ufpa3Iq2Wm7a5o0VpJnXdrqbl++Rjb8R/79jmLlvul0ECyN7B5kSr7p8U+/CPnyl2hGATgLebYLPhtl1Z/U1WKT5+Z3y6K3Dqqy0gyoOnqqVnakFYteDsCjbP/+hs/PVDk3H3J47G3akrcOpuXBdi3b7RBb2yOfDrqsTXBFZbvib/MtAVbHatT0eAl9s62My7WOflzjh6fCa+8ULZWjD5zc9j+dmZ+PTE0Tj6idQdOnXN7xdsbn6vfB/NpM5SG13M0uuO/mXqoH4unnmgxzb95lz8/RfvjjvvvDse/Ku/j5eq1geZzvVuK137o7LldtaG2p37u6Xt2G3e35muZdUdp455at+7JNgE4B2lV7CZbil0NL5Un2vmf28vmWCz8pO1+NoXi67Vv3vfjwdvVbgpfCy0B2dnP5/9+6/Tv1Ow92o8+sPz+fNFEPeTmPhId9BY+smP48aPvB5/WwWXvzgXHzvU1WKz5r3j12/G32bbcs2tr8ZvZ+V3b30lfqsKNttDzpbOADGtW+rivamU+6F2n3QbYL/sPNjcvL9SYPxbj/RZv671EWwCsJsEmw23ubJatPyrgqiO4Og3b8TCw3fHvX/5/e2NaN0eEK2fjc+VI27mrQPygC3THjCl1ph3TMZf//PPiwA0UxdQvfSVe/Mu5ZNf76yhbxn47TDYPPmfhx9sbgrm2iz/5dE4+uhCvNFqFNC5vK3XOZNap6b7bOYjnZatVH/41bh74qvxUn5/zY2Wq3XbdP5nL8Xf/9WDcfcdR+OzZ4qFb7Xe3bac/2IHm/8g2ATgctQj2Ey9F1K9oHzYLf29veSCzcovfhr3jb0SR84UlZlhBJvxrfI+mylU/Nhq/CCblN9784Fz8at0f81y2mbn4wdPvZ7fZzK/F+Str8WD32u7V2btexddwK/5859udBNvDzMHDDb7hX67GmymfdV63RCDzY7lCjYB2F2CzYYbuLJahpqf/spL2ws1k66AqAikzsZXj7WNkt4eMNWETSnk6wiofphVwj+RLfNH6d6Wkxv3kcxsGfjtJNjMQ8CLGWzWBHuphet2g838PpufjmfOfCmOtkY6TdOyef9r+7T6bWpJ90Itj0kaxb5jAKIt9N/OTI9wse51eVf0B56JNIRQXVf0ogv9xrLqtil/XTVPCnl1RQfgslAfbKY61r1PbQwQ2C39Pb5kg83MluFbe2iXgsIeXa4nvlM+zO+V+a/xtWde37g3ZzXt623TNkmjgr8Wj77Yo4ZUGx7WBH/pvp59u6KX61sGiD948tUidC0ebjJQsDnAfqlbTgootw42X4kj32rfJ8Xo6f26oncuV7AJwO4SbDbcQJXVKtT8+is9wqwBBw8qH+YhWRqB+vg3WqFaR7iVh02fi78vn/z5C1+NT6fRuauA6jcv5V2mqkFkflneD7IaJX3LwG/LYLMIFVvbm7qEz306bx168YLNouv4vXMvFetw/lz8/WN3Z+uwsbwtt7OU3ufe/3xv616bSfoSk3fxb7svZt02Fc7Huf/yYNz5cBmC5i1qj8bnvvVGnM/3+fn45Y9eild61PP7b2emV6vJNHjQ0Y3BmIrBg9puPZDfH7N98KDl+OsHsvOkfVlp2Z+YibPlpucDHWXL2JgnO9bZa+594h/LQZqybXn1XLGdZZDcHpoDQHPVBJu/+X7+A2jqSdPLQHXFi+IXcfabP4kf/KyK8H4dP11ajQ9+JHUXL6ZsGWy2Wkh2DZIzttrqzl4EdK/FNR/fuL9keu+v3ZtG5e5xf83cepx95NWO7uBphPJWq83aYLMIDz/2jbL/+s9+Fo/e3dYVPd2P8njn4EGvP/N6/Hb34EH5gEnVAES/jl+9sRY/KHfDQMHmIPslW//fOpytV3V7ojfOxZHD2Xa2tinto2wZeTf+ShFs9hs8aOvlFrcH+LcP9g5vAeBCCDYbbqDKagqH2rqnt5fita/k3bSP/lWPTkybgsR0L6eNQW1yHeHWL+P7fzUZd6bw8/Y74+5Hn4mX/uFLcbQM3VIX9KMzZ9tajv6yGDW97JJ+4cFm5vWF+NyxO4vtPHJvfO6/vpS/x8ULNjNpHSaqdZiML/3DS/GNh7YfbBb3Iu16Lj+mnQNAtS/v59/6XHFf0/w4p/ti/nV8v+1wnX91IWbuL9ctK3ceezC+8XL5ZJcdB5uZnz/31/HpT2zsg5lvdc51LjsvJsv1vPPYTPz9Pz8Tn+5YVjqXPh1HUzBebcdzX4272+f55UvxzKP3ludbWk7VHe98vPT1B4vp6fYJP8onAkBD1QSb6W9w+w/NNS6lYPPM51+L3/2jjeDwt4+8Hn/+/eqmloMEm5lf/zy+/MBreZfxtIyr7l2NsxuLyKUg7d90tWDMl50G/6kNgc/HD558La75P35aBpDJ+fjV99/IB+VJdzuvDzYjfvW9N+KD5TZd8bFse/45DVZUBZuZX/ws/vyBV+OKtM2HXo0/fvJn8bePdLWM/OG5mBhPgWixnP/b2Ovx5ReLpwYLNjNb7pdfxdkvvha/fah4/rfvfiPOfmc1frdtm371wo/ixnJbbpxPI9MXLVIfzCpRH/tYMb3YxvaIcuvlxk+y7aten+1jABgmwSYAAHAZK1p5/nl3j/63zsWRTffIvJzU32MTAC4lgk0AAOAy9ov42p++Eh/867a2r2/9Iv777GtxRRqIqJx0+RFsAnDpE2wCAACXt1/8NB6999W44lAaEf2VuOKPXo0b/49z8Xo12vllSbAJwKVPsAkAAAAANI5gEwAAAABoHMEmAAAAANA4gk0AAAAAoHEEmwAAAABA4wg2AQAAAIDGEWwCAAAAAI0j2AQAAAAAGkewCQAAAAA0ztraWvz/ARI/cwGoxKT8AAAAAElFTkSuQmCC)"
      ]
    }
  ]
}